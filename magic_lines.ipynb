# use them at the beginning (Jeremy's suggestion)

%reload_ext autoreload
%autoreload 2
%matplotlib inline