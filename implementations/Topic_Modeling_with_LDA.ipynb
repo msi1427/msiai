{
  "nbformat": 4,
  "nbformat_minor": 0,
  "metadata": {
    "colab": {
      "name": "Topic Modeling with LDA.ipynb",
      "provenance": [],
      "collapsed_sections": []
    },
    "kernelspec": {
      "name": "python3",
      "display_name": "Python 3"
    },
    "language_info": {
      "name": "python"
    }
  },
  "cells": [
    {
      "cell_type": "markdown",
      "metadata": {
        "id": "E_p_9aXVm2hs"
      },
      "source": [
        "# Loading data"
      ]
    },
    {
      "cell_type": "code",
      "metadata": {
        "colab": {
          "base_uri": "https://localhost:8080/"
        },
        "id": "Xs7akJRD1QWQ",
        "outputId": "b51711fd-451c-4c2a-efd9-60cd3aa00240"
      },
      "source": [
        "from google.colab import drive\n",
        "drive.mount('/content/drive')"
      ],
      "execution_count": 1,
      "outputs": [
        {
          "output_type": "stream",
          "text": [
            "Drive already mounted at /content/drive; to attempt to forcibly remount, call drive.mount(\"/content/drive\", force_remount=True).\n"
          ],
          "name": "stdout"
        }
      ]
    },
    {
      "cell_type": "code",
      "metadata": {
        "colab": {
          "base_uri": "https://localhost:8080/"
        },
        "id": "ZSgZbO231ifO",
        "outputId": "a27d0c0e-9d10-4e82-a0f4-0433b3e3ccb5"
      },
      "source": [
        "import pandas as pd\n",
        "\n",
        "df = pd.read_csv('Comparably_reviews.csv')\n",
        "reviews = df['Review_text']\n",
        "len(reviews)"
      ],
      "execution_count": 2,
      "outputs": [
        {
          "output_type": "execute_result",
          "data": {
            "text/plain": [
              "3790"
            ]
          },
          "metadata": {
            "tags": []
          },
          "execution_count": 2
        }
      ]
    },
    {
      "cell_type": "markdown",
      "metadata": {
        "id": "Ru9mLKng5Eyv"
      },
      "source": [
        "# Downloads\n",
        "- NLTK for stopwords\n",
        "- Scapy for lemmatization"
      ]
    },
    {
      "cell_type": "code",
      "metadata": {
        "colab": {
          "base_uri": "https://localhost:8080/"
        },
        "id": "D8ytdcWpnOcz",
        "outputId": "ed7ec111-14a9-483a-f2c6-ff3167da66b3"
      },
      "source": [
        "%%shell\n",
        "\n",
        "# Run in terminal or command prompt\n",
        "python3 -m spacy download en"
      ],
      "execution_count": 3,
      "outputs": [
        {
          "output_type": "stream",
          "text": [
            "Requirement already satisfied: en_core_web_sm==2.2.5 from https://github.com/explosion/spacy-models/releases/download/en_core_web_sm-2.2.5/en_core_web_sm-2.2.5.tar.gz#egg=en_core_web_sm==2.2.5 in /usr/local/lib/python3.7/dist-packages (2.2.5)\n",
            "Requirement already satisfied: spacy>=2.2.2 in /usr/local/lib/python3.7/dist-packages (from en_core_web_sm==2.2.5) (2.2.4)\n",
            "Requirement already satisfied: preshed<3.1.0,>=3.0.2 in /usr/local/lib/python3.7/dist-packages (from spacy>=2.2.2->en_core_web_sm==2.2.5) (3.0.5)\n",
            "Requirement already satisfied: thinc==7.4.0 in /usr/local/lib/python3.7/dist-packages (from spacy>=2.2.2->en_core_web_sm==2.2.5) (7.4.0)\n",
            "Requirement already satisfied: requests<3.0.0,>=2.13.0 in /usr/local/lib/python3.7/dist-packages (from spacy>=2.2.2->en_core_web_sm==2.2.5) (2.23.0)\n",
            "Requirement already satisfied: plac<1.2.0,>=0.9.6 in /usr/local/lib/python3.7/dist-packages (from spacy>=2.2.2->en_core_web_sm==2.2.5) (1.1.3)\n",
            "Requirement already satisfied: murmurhash<1.1.0,>=0.28.0 in /usr/local/lib/python3.7/dist-packages (from spacy>=2.2.2->en_core_web_sm==2.2.5) (1.0.5)\n",
            "Requirement already satisfied: numpy>=1.15.0 in /usr/local/lib/python3.7/dist-packages (from spacy>=2.2.2->en_core_web_sm==2.2.5) (1.20.2)\n",
            "Requirement already satisfied: setuptools in /usr/local/lib/python3.7/dist-packages (from spacy>=2.2.2->en_core_web_sm==2.2.5) (56.0.0)\n",
            "Requirement already satisfied: cymem<2.1.0,>=2.0.2 in /usr/local/lib/python3.7/dist-packages (from spacy>=2.2.2->en_core_web_sm==2.2.5) (2.0.5)\n",
            "Requirement already satisfied: catalogue<1.1.0,>=0.0.7 in /usr/local/lib/python3.7/dist-packages (from spacy>=2.2.2->en_core_web_sm==2.2.5) (1.0.0)\n",
            "Requirement already satisfied: srsly<1.1.0,>=1.0.2 in /usr/local/lib/python3.7/dist-packages (from spacy>=2.2.2->en_core_web_sm==2.2.5) (1.0.5)\n",
            "Requirement already satisfied: blis<0.5.0,>=0.4.0 in /usr/local/lib/python3.7/dist-packages (from spacy>=2.2.2->en_core_web_sm==2.2.5) (0.4.1)\n",
            "Requirement already satisfied: wasabi<1.1.0,>=0.4.0 in /usr/local/lib/python3.7/dist-packages (from spacy>=2.2.2->en_core_web_sm==2.2.5) (0.8.2)\n",
            "Requirement already satisfied: tqdm<5.0.0,>=4.38.0 in /usr/local/lib/python3.7/dist-packages (from spacy>=2.2.2->en_core_web_sm==2.2.5) (4.41.1)\n",
            "Requirement already satisfied: urllib3!=1.25.0,!=1.25.1,<1.26,>=1.21.1 in /usr/local/lib/python3.7/dist-packages (from requests<3.0.0,>=2.13.0->spacy>=2.2.2->en_core_web_sm==2.2.5) (1.24.3)\n",
            "Requirement already satisfied: idna<3,>=2.5 in /usr/local/lib/python3.7/dist-packages (from requests<3.0.0,>=2.13.0->spacy>=2.2.2->en_core_web_sm==2.2.5) (2.10)\n",
            "Requirement already satisfied: certifi>=2017.4.17 in /usr/local/lib/python3.7/dist-packages (from requests<3.0.0,>=2.13.0->spacy>=2.2.2->en_core_web_sm==2.2.5) (2020.12.5)\n",
            "Requirement already satisfied: chardet<4,>=3.0.2 in /usr/local/lib/python3.7/dist-packages (from requests<3.0.0,>=2.13.0->spacy>=2.2.2->en_core_web_sm==2.2.5) (3.0.4)\n",
            "Requirement already satisfied: importlib-metadata>=0.20; python_version < \"3.8\" in /usr/local/lib/python3.7/dist-packages (from catalogue<1.1.0,>=0.0.7->spacy>=2.2.2->en_core_web_sm==2.2.5) (3.10.1)\n",
            "Requirement already satisfied: zipp>=0.5 in /usr/local/lib/python3.7/dist-packages (from importlib-metadata>=0.20; python_version < \"3.8\"->catalogue<1.1.0,>=0.0.7->spacy>=2.2.2->en_core_web_sm==2.2.5) (3.4.1)\n",
            "Requirement already satisfied: typing-extensions>=3.6.4; python_version < \"3.8\" in /usr/local/lib/python3.7/dist-packages (from importlib-metadata>=0.20; python_version < \"3.8\"->catalogue<1.1.0,>=0.0.7->spacy>=2.2.2->en_core_web_sm==2.2.5) (3.7.4.3)\n",
            "\u001b[38;5;2m✔ Download and installation successful\u001b[0m\n",
            "You can now load the model via spacy.load('en_core_web_sm')\n",
            "\u001b[38;5;2m✔ Linking successful\u001b[0m\n",
            "/usr/local/lib/python3.7/dist-packages/en_core_web_sm -->\n",
            "/usr/local/lib/python3.7/dist-packages/spacy/data/en\n",
            "You can now load the model via spacy.load('en')\n"
          ],
          "name": "stdout"
        },
        {
          "output_type": "execute_result",
          "data": {
            "text/plain": [
              ""
            ]
          },
          "metadata": {
            "tags": []
          },
          "execution_count": 3
        }
      ]
    },
    {
      "cell_type": "code",
      "metadata": {
        "id": "2p4xLYtc5mAe",
        "colab": {
          "base_uri": "https://localhost:8080/"
        },
        "outputId": "97bab872-46b3-4e15-e58d-43dfddb042a4"
      },
      "source": [
        "import nltk\n",
        "nltk.download('stopwords')"
      ],
      "execution_count": 4,
      "outputs": [
        {
          "output_type": "stream",
          "text": [
            "[nltk_data] Downloading package stopwords to /root/nltk_data...\n",
            "[nltk_data]   Package stopwords is already up-to-date!\n"
          ],
          "name": "stdout"
        },
        {
          "output_type": "execute_result",
          "data": {
            "text/plain": [
              "True"
            ]
          },
          "metadata": {
            "tags": []
          },
          "execution_count": 4
        }
      ]
    },
    {
      "cell_type": "markdown",
      "metadata": {
        "id": "HRlnVgHFnx1b"
      },
      "source": [
        "# Importing packages"
      ]
    },
    {
      "cell_type": "code",
      "metadata": {
        "colab": {
          "base_uri": "https://localhost:8080/"
        },
        "id": "Qvc5iqFAoFcr",
        "outputId": "9f83cfd3-3aa8-489e-ec45-de6d24f25d16"
      },
      "source": [
        "! pip install pyLDAvis\n",
        "! pip install --upgrade gensim"
      ],
      "execution_count": 5,
      "outputs": [
        {
          "output_type": "stream",
          "text": [
            "Requirement already satisfied: pyLDAvis in /usr/local/lib/python3.7/dist-packages (3.3.1)\n",
            "Requirement already satisfied: numexpr in /usr/local/lib/python3.7/dist-packages (from pyLDAvis) (2.7.3)\n",
            "Requirement already satisfied: joblib in /usr/local/lib/python3.7/dist-packages (from pyLDAvis) (1.0.1)\n",
            "Requirement already satisfied: setuptools in /usr/local/lib/python3.7/dist-packages (from pyLDAvis) (56.0.0)\n",
            "Requirement already satisfied: numpy>=1.20.0 in /usr/local/lib/python3.7/dist-packages (from pyLDAvis) (1.20.2)\n",
            "Requirement already satisfied: sklearn in /usr/local/lib/python3.7/dist-packages (from pyLDAvis) (0.0)\n",
            "Requirement already satisfied: scipy in /usr/local/lib/python3.7/dist-packages (from pyLDAvis) (1.4.1)\n",
            "Requirement already satisfied: future in /usr/local/lib/python3.7/dist-packages (from pyLDAvis) (0.16.0)\n",
            "Requirement already satisfied: funcy in /usr/local/lib/python3.7/dist-packages (from pyLDAvis) (1.15)\n",
            "Requirement already satisfied: scikit-learn in /usr/local/lib/python3.7/dist-packages (from pyLDAvis) (0.22.2.post1)\n",
            "Requirement already satisfied: pandas>=1.2.0 in /usr/local/lib/python3.7/dist-packages (from pyLDAvis) (1.2.4)\n",
            "Requirement already satisfied: gensim in /usr/local/lib/python3.7/dist-packages (from pyLDAvis) (4.0.1)\n",
            "Requirement already satisfied: jinja2 in /usr/local/lib/python3.7/dist-packages (from pyLDAvis) (2.11.3)\n",
            "Requirement already satisfied: pytz>=2017.3 in /usr/local/lib/python3.7/dist-packages (from pandas>=1.2.0->pyLDAvis) (2018.9)\n",
            "Requirement already satisfied: python-dateutil>=2.7.3 in /usr/local/lib/python3.7/dist-packages (from pandas>=1.2.0->pyLDAvis) (2.8.1)\n",
            "Requirement already satisfied: smart-open>=1.8.1 in /usr/local/lib/python3.7/dist-packages (from gensim->pyLDAvis) (5.0.0)\n",
            "Requirement already satisfied: MarkupSafe>=0.23 in /usr/local/lib/python3.7/dist-packages (from jinja2->pyLDAvis) (1.1.1)\n",
            "Requirement already satisfied: six>=1.5 in /usr/local/lib/python3.7/dist-packages (from python-dateutil>=2.7.3->pandas>=1.2.0->pyLDAvis) (1.15.0)\n",
            "Requirement already up-to-date: gensim in /usr/local/lib/python3.7/dist-packages (4.0.1)\n",
            "Requirement already satisfied, skipping upgrade: scipy>=0.18.1 in /usr/local/lib/python3.7/dist-packages (from gensim) (1.4.1)\n",
            "Requirement already satisfied, skipping upgrade: smart-open>=1.8.1 in /usr/local/lib/python3.7/dist-packages (from gensim) (5.0.0)\n",
            "Requirement already satisfied, skipping upgrade: numpy>=1.11.3 in /usr/local/lib/python3.7/dist-packages (from gensim) (1.20.2)\n"
          ],
          "name": "stdout"
        }
      ]
    },
    {
      "cell_type": "code",
      "metadata": {
        "id": "bJAqMH9In0hi",
        "colab": {
          "base_uri": "https://localhost:8080/"
        },
        "outputId": "b6a7b3c5-771c-4531-81a1-e59e9f5e5c35"
      },
      "source": [
        "import numpy as np\n",
        "import pandas as pd\n",
        "import re, nltk, spacy, gensim\n",
        "\n",
        "# Sklearn\n",
        "from sklearn.decomposition import LatentDirichletAllocation, TruncatedSVD\n",
        "from sklearn.feature_extraction.text import CountVectorizer, TfidfVectorizer\n",
        "from sklearn.model_selection import GridSearchCV\n",
        "from pprint import pprint\n",
        "\n",
        "# Plotting tools\n",
        "import pyLDAvis\n",
        "import pyLDAvis.sklearn\n",
        "import matplotlib.pyplot as plt\n",
        "%matplotlib inline\n",
        "\n",
        "import warnings\n",
        "warnings.filterwarnings(\"ignore\",category=DeprecationWarning)"
      ],
      "execution_count": 6,
      "outputs": [
        {
          "output_type": "stream",
          "text": [
            "/usr/local/lib/python3.7/dist-packages/gensim/similarities/__init__.py:15: UserWarning: The gensim.similarities.levenshtein submodule is disabled, because the optional Levenshtein package <https://pypi.org/project/python-Levenshtein/> is unavailable. Install Levenhstein (e.g. `pip install python-Levenshtein`) to suppress this warning.\n",
            "  warnings.warn(msg)\n",
            "/usr/local/lib/python3.7/dist-packages/past/types/oldstr.py:5: DeprecationWarning: Using or importing the ABCs from 'collections' instead of from 'collections.abc' is deprecated since Python 3.3,and in 3.9 it will stop working\n",
            "  from collections import Iterable\n",
            "/usr/local/lib/python3.7/dist-packages/past/builtins/misc.py:4: DeprecationWarning: Using or importing the ABCs from 'collections' instead of from 'collections.abc' is deprecated since Python 3.3,and in 3.9 it will stop working\n",
            "  from collections import Mapping\n"
          ],
          "name": "stderr"
        }
      ]
    },
    {
      "cell_type": "markdown",
      "metadata": {
        "id": "VSYGL1j4prMS"
      },
      "source": [
        "# Prepare Stopwords"
      ]
    },
    {
      "cell_type": "code",
      "metadata": {
        "colab": {
          "base_uri": "https://localhost:8080/"
        },
        "id": "EW1l_4tJpeZ6",
        "outputId": "03bc896f-bf8a-4c41-a3d7-10f8f62e2204"
      },
      "source": [
        "from nltk.corpus import stopwords\n",
        "stop_words = stopwords.words('english')\n",
        "stop_words.extend(['from', 'subject', 're', 'edu', 'use'])\n",
        "len(stop_words)"
      ],
      "execution_count": 7,
      "outputs": [
        {
          "output_type": "execute_result",
          "data": {
            "text/plain": [
              "184"
            ]
          },
          "metadata": {
            "tags": []
          },
          "execution_count": 7
        }
      ]
    },
    {
      "cell_type": "markdown",
      "metadata": {
        "id": "dhZggh4LqVxQ"
      },
      "source": [
        "# Clean the texts"
      ]
    },
    {
      "cell_type": "code",
      "metadata": {
        "colab": {
          "base_uri": "https://localhost:8080/"
        },
        "id": "yxYkI3gXqIb9",
        "outputId": "4c87123b-91e8-4791-b4e8-087ad1c79efb"
      },
      "source": [
        "# Convert to list\n",
        "data = df.Review_text.values.tolist()\n",
        "\n",
        "# Remove new line characters\n",
        "data = [re.sub('\\s+', ' ', sent) for sent in data]\n",
        "\n",
        "# Remove distracting single quotes\n",
        "data = [re.sub(\"\\'\", \"\", sent) for sent in data]\n",
        "\n",
        "pprint(data[:10])"
      ],
      "execution_count": 8,
      "outputs": [
        {
          "output_type": "stream",
          "text": [
            "['Overall good for learning, but pay is low',\n",
            " 'Very good Onsite opportunities and perks at onsite',\n",
            " 'Very good culture , I get good work exposure and get to work with good team',\n",
            " 'Horrible. Unfit Project Managers Useless HR Unprofessional RMG',\n",
            " 'Brilliant, Valuable, Learning, Sharing, Caring',\n",
            " 'Encouraging, motivating, allows to take new challenge',\n",
            " 'Onsite opportunities and career growth',\n",
            " 'Team is encouraging and very supportive.',\n",
            " 'Excellent Company to Work for',\n",
            " 'Greetings! I love TCS Leadership Team for making us feel like a big family '\n",
            " ':)']\n"
          ],
          "name": "stdout"
        }
      ]
    },
    {
      "cell_type": "code",
      "metadata": {
        "colab": {
          "base_uri": "https://localhost:8080/"
        },
        "id": "ADGLgSdvrMSL",
        "outputId": "23b335d9-3d86-4bf7-9a0b-3b1e41864bf9"
      },
      "source": [
        "# Tokenize\n",
        "def sent_to_words(sentences):\n",
        "    for sentence in sentences:\n",
        "        yield(gensim.utils.simple_preprocess(str(sentence), deacc=True))  \n",
        "        # deacc=True removes punctuations\n",
        "\n",
        "data_words = list(sent_to_words(data))\n",
        "\n",
        "pprint(data_words[:2])"
      ],
      "execution_count": 9,
      "outputs": [
        {
          "output_type": "stream",
          "text": [
            "[['overall', 'good', 'for', 'learning', 'but', 'pay', 'is', 'low'],\n",
            " ['very', 'good', 'onsite', 'opportunities', 'and', 'perks', 'at', 'onsite']]\n"
          ],
          "name": "stdout"
        }
      ]
    },
    {
      "cell_type": "markdown",
      "metadata": {
        "id": "nRt8icCasYFz"
      },
      "source": [
        "# Lemmatization"
      ]
    },
    {
      "cell_type": "code",
      "metadata": {
        "id": "3LyjPkFAsgKh",
        "colab": {
          "base_uri": "https://localhost:8080/"
        },
        "outputId": "8bd69359-961f-4795-de1c-8d389545b59f"
      },
      "source": [
        "def lemmatization(texts, allowed_postags=['NOUN', 'ADJ', 'VERB', 'ADV']):\n",
        "    \"\"\"https://spacy.io/api/annotation\"\"\"\n",
        "    texts_out = []\n",
        "    for sent in texts:\n",
        "        doc = nlp(\" \".join(sent)) \n",
        "        texts_out.append(\" \".join([token.lemma_ if token.lemma_ not in ['-PRON-'] else '' for token in doc if token.pos_ in allowed_postags]))\n",
        "    return texts_out\n",
        "\n",
        "# Initialize spacy 'en' model, keeping only tagger component (for efficiency)\n",
        "# Run in terminal: python3 -m spacy download en\n",
        "nlp = spacy.load('en', disable=['parser', 'ner'])\n",
        "\n",
        "# Do lemmatization keeping only Noun, Adj, Verb, Adverb\n",
        "data_lemmatized = lemmatization(data_words, allowed_postags=['NOUN', 'ADJ', 'VERB', 'ADV'])\n",
        "\n",
        "print(data_lemmatized[:2])"
      ],
      "execution_count": 10,
      "outputs": [
        {
          "output_type": "stream",
          "text": [
            "['overall good learning pay low', 'very good onsite opportunity perk onsite']\n"
          ],
          "name": "stdout"
        }
      ]
    },
    {
      "cell_type": "markdown",
      "metadata": {
        "id": "bl5EcfIntvbU"
      },
      "source": [
        "# Document Word Matrix"
      ]
    },
    {
      "cell_type": "code",
      "metadata": {
        "id": "mUMlLTc7tzWE"
      },
      "source": [
        "vectorizer = CountVectorizer(analyzer='word',       \n",
        "                             min_df=10,                        # minimum reqd occurences of a word \n",
        "                             stop_words='english',             # remove stop words\n",
        "                             lowercase=True,                   # convert all words to lowercase\n",
        "                             token_pattern='[a-zA-Z0-9]{3,}',  # num chars > 3\n",
        "                             # max_features=50000,             # max number of uniq words\n",
        "                            )\n",
        "\n",
        "data_vectorized = vectorizer.fit_transform(data_lemmatized)"
      ],
      "execution_count": 11,
      "outputs": []
    },
    {
      "cell_type": "markdown",
      "metadata": {
        "id": "5zv8XBF2eI_P"
      },
      "source": [
        "Sparsicity is the percentage of non-zero datapoints in the document-word matrix"
      ]
    },
    {
      "cell_type": "code",
      "metadata": {
        "colab": {
          "base_uri": "https://localhost:8080/"
        },
        "id": "cbNxhSc5eBXH",
        "outputId": "bd17c668-ec47-4fb1-d813-2fe47f74a9aa"
      },
      "source": [
        "# Materialize the sparse data\n",
        "data_dense = data_vectorized.todense()\n",
        "\n",
        "# Compute Sparsicity = Percentage of Non-Zero cells\n",
        "print(\"Sparsity: \", ((data_dense > 0).sum()/data_dense.size)*100, \"%\")"
      ],
      "execution_count": 12,
      "outputs": [
        {
          "output_type": "stream",
          "text": [
            "Sparsity:  0.9797846539271342 %\n"
          ],
          "name": "stdout"
        }
      ]
    },
    {
      "cell_type": "markdown",
      "metadata": {
        "id": "yzEmZ_ehuhzb"
      },
      "source": [
        "# Topic Model"
      ]
    },
    {
      "cell_type": "code",
      "metadata": {
        "id": "cKEVHZ7_uc_p",
        "colab": {
          "base_uri": "https://localhost:8080/"
        },
        "outputId": "c6ba249a-2980-4d9e-8b85-24361e252280"
      },
      "source": [
        "# Build LDA Model\n",
        "lda_model = LatentDirichletAllocation(n_components=20,               # Number of topics\n",
        "                                      max_iter=10,               # Max learning iterations\n",
        "                                      learning_method='online',   \n",
        "                                      random_state=100,          # Random state\n",
        "                                      batch_size=128,            # n docs in each learning iter\n",
        "                                      evaluate_every = -1,       # compute perplexity every n iters, default: Don't\n",
        "                                      n_jobs = -1,               # Use all available CPUs\n",
        "                                     )\n",
        "\n",
        "lda_output = lda_model.fit_transform(data_vectorized)\n",
        "\n",
        "print(lda_model)  # Model attributes"
      ],
      "execution_count": 14,
      "outputs": [
        {
          "output_type": "stream",
          "text": [
            "LatentDirichletAllocation(batch_size=128, doc_topic_prior=None,\n",
            "                          evaluate_every=-1, learning_decay=0.7,\n",
            "                          learning_method='online', learning_offset=10.0,\n",
            "                          max_doc_update_iter=100, max_iter=10,\n",
            "                          mean_change_tol=0.001, n_components=20, n_jobs=-1,\n",
            "                          perp_tol=0.1, random_state=100, topic_word_prior=None,\n",
            "                          total_samples=1000000.0, verbose=0)\n"
          ],
          "name": "stdout"
        }
      ]
    },
    {
      "cell_type": "markdown",
      "metadata": {
        "id": "9tSTeMyJvSz5"
      },
      "source": [
        "# Evaluate\n",
        "- higher log likelihood\n",
        "- lower perplexity"
      ]
    },
    {
      "cell_type": "code",
      "metadata": {
        "colab": {
          "base_uri": "https://localhost:8080/"
        },
        "id": "sQavBGC-vZCo",
        "outputId": "d68a8e1e-3d40-4f9f-b3d9-24503f8eb629"
      },
      "source": [
        "# Log Likelyhood: Higher the better\n",
        "print(\"Log Likelihood: \", lda_model.score(data_vectorized))\n",
        "\n",
        "# Perplexity: Lower the better. Perplexity = exp(-1. * log-likelihood per word)\n",
        "print(\"Perplexity: \", lda_model.perplexity(data_vectorized))\n",
        "\n",
        "# See model parameters\n",
        "pprint(lda_model.get_params())"
      ],
      "execution_count": 15,
      "outputs": [
        {
          "output_type": "stream",
          "text": [
            "Log Likelihood:  -91535.63782041507\n",
            "Perplexity:  373.2829889507531\n",
            "{'batch_size': 128,\n",
            " 'doc_topic_prior': None,\n",
            " 'evaluate_every': -1,\n",
            " 'learning_decay': 0.7,\n",
            " 'learning_method': 'online',\n",
            " 'learning_offset': 10.0,\n",
            " 'max_doc_update_iter': 100,\n",
            " 'max_iter': 10,\n",
            " 'mean_change_tol': 0.001,\n",
            " 'n_components': 20,\n",
            " 'n_jobs': -1,\n",
            " 'perp_tol': 0.1,\n",
            " 'random_state': 100,\n",
            " 'topic_word_prior': None,\n",
            " 'total_samples': 1000000.0,\n",
            " 'verbose': 0}\n"
          ],
          "name": "stdout"
        }
      ]
    },
    {
      "cell_type": "markdown",
      "metadata": {
        "id": "W9GTV60ev3Ts"
      },
      "source": [
        "# Find Best LDA Model"
      ]
    },
    {
      "cell_type": "code",
      "metadata": {
        "colab": {
          "base_uri": "https://localhost:8080/"
        },
        "id": "vWPa-RQ3v_F2",
        "outputId": "8c99bae9-d2f7-443f-a76e-2af76d05da60"
      },
      "source": [
        "# Define Search Param\n",
        "search_params = {'n_components': [10, 15, 20, 25, 30], 'learning_decay': [.5, .7, .9]}\n",
        "\n",
        "# Init the Model\n",
        "lda = LatentDirichletAllocation()\n",
        "\n",
        "# Init Grid Search Class\n",
        "model = GridSearchCV(lda, param_grid=search_params)\n",
        "\n",
        "# Do the Grid Search\n",
        "model.fit(data_vectorized)"
      ],
      "execution_count": 23,
      "outputs": [
        {
          "output_type": "execute_result",
          "data": {
            "text/plain": [
              "GridSearchCV(cv=None, error_score=nan,\n",
              "             estimator=LatentDirichletAllocation(batch_size=128,\n",
              "                                                 doc_topic_prior=None,\n",
              "                                                 evaluate_every=-1,\n",
              "                                                 learning_decay=0.7,\n",
              "                                                 learning_method='batch',\n",
              "                                                 learning_offset=10.0,\n",
              "                                                 max_doc_update_iter=100,\n",
              "                                                 max_iter=10,\n",
              "                                                 mean_change_tol=0.001,\n",
              "                                                 n_components=10, n_jobs=None,\n",
              "                                                 perp_tol=0.1,\n",
              "                                                 random_state=None,\n",
              "                                                 topic_word_prior=None,\n",
              "                                                 total_samples=1000000.0,\n",
              "                                                 verbose=0),\n",
              "             iid='deprecated', n_jobs=None,\n",
              "             param_grid={'learning_decay': [0.5, 0.7, 0.9],\n",
              "                         'n_components': [10, 15, 20, 25, 30]},\n",
              "             pre_dispatch='2*n_jobs', refit=True, return_train_score=False,\n",
              "             scoring=None, verbose=0)"
            ]
          },
          "metadata": {
            "tags": []
          },
          "execution_count": 23
        }
      ]
    },
    {
      "cell_type": "code",
      "metadata": {
        "colab": {
          "base_uri": "https://localhost:8080/"
        },
        "id": "xGaHgYnEfRr9",
        "outputId": "43cdb470-aa30-4bb5-d80b-7037c93b1107"
      },
      "source": [
        "# Best Model\n",
        "best_lda_model = model.best_estimator_\n",
        "\n",
        "# Model Parameters\n",
        "print(\"Best Model's Params: \", model.best_params_)\n",
        "\n",
        "# Log Likelihood Score\n",
        "print(\"Best Log Likelihood Score: \", model.best_score_)\n",
        "\n",
        "# Perplexity\n",
        "print(\"Model Perplexity: \", best_lda_model.perplexity(data_vectorized))"
      ],
      "execution_count": 24,
      "outputs": [
        {
          "output_type": "stream",
          "text": [
            "Best Model's Params:  {'learning_decay': 0.9, 'n_components': 10}\n",
            "Best Log Likelihood Score:  -21198.600620337675\n",
            "Model Perplexity:  306.58848605917876\n"
          ],
          "name": "stdout"
        }
      ]
    },
    {
      "cell_type": "markdown",
      "metadata": {
        "id": "ip71Ildtfvsu"
      },
      "source": [
        "# Dominant topic in each review"
      ]
    },
    {
      "cell_type": "code",
      "metadata": {
        "colab": {
          "base_uri": "https://localhost:8080/",
          "height": 355
        },
        "id": "y2tp9V6yf1UU",
        "outputId": "a468eb2f-12d4-4cb0-bf15-b200e5ec0a67"
      },
      "source": [
        "# Create Document - Topic Matrix\n",
        "lda_output = best_lda_model.transform(data_vectorized)\n",
        "\n",
        "# column names\n",
        "topicnames = [\"Topic\" + str(i) for i in range(best_lda_model.n_components)]\n",
        "\n",
        "# index names\n",
        "docnames = [\"Doc\" + str(i) for i in range(len(data))]\n",
        "\n",
        "# Make the pandas dataframe\n",
        "df_document_topic = pd.DataFrame(np.round(lda_output, 2), columns=topicnames, index=docnames)\n",
        "\n",
        "# Get dominant topic for each document\n",
        "dominant_topic = np.argmax(df_document_topic.values, axis=1)\n",
        "df_document_topic['dominant_topic'] = dominant_topic\n",
        "\n",
        "# Styling\n",
        "def color_green(val):\n",
        "    color = 'green' if val > .1 else 'black'\n",
        "    return 'color: {col}'.format(col=color)\n",
        "\n",
        "def make_bold(val):\n",
        "    weight = 700 if val > .1 else 400\n",
        "    return 'font-weight: {weight}'.format(weight=weight)\n",
        "\n",
        "# Apply Style\n",
        "df_document_topics = df_document_topic.head(15).style.applymap(color_green).applymap(make_bold)\n",
        "df_document_topics"
      ],
      "execution_count": 26,
      "outputs": [
        {
          "output_type": "execute_result",
          "data": {
            "text/html": [
              "<style  type=\"text/css\" >\n",
              "#T_a45c1_row0_col0,#T_a45c1_row0_col4,#T_a45c1_row0_col10,#T_a45c1_row1_col3,#T_a45c1_row1_col10,#T_a45c1_row2_col7,#T_a45c1_row2_col10,#T_a45c1_row3_col6,#T_a45c1_row3_col10,#T_a45c1_row4_col0,#T_a45c1_row5_col2,#T_a45c1_row5_col10,#T_a45c1_row6_col2,#T_a45c1_row6_col10,#T_a45c1_row7_col1,#T_a45c1_row7_col10,#T_a45c1_row8_col2,#T_a45c1_row8_col10,#T_a45c1_row9_col4,#T_a45c1_row9_col5,#T_a45c1_row9_col7,#T_a45c1_row9_col9,#T_a45c1_row9_col10,#T_a45c1_row10_col4,#T_a45c1_row10_col6,#T_a45c1_row10_col8,#T_a45c1_row10_col10,#T_a45c1_row11_col5,#T_a45c1_row11_col7,#T_a45c1_row11_col10,#T_a45c1_row12_col2,#T_a45c1_row12_col5,#T_a45c1_row12_col10,#T_a45c1_row13_col0,#T_a45c1_row14_col4,#T_a45c1_row14_col10{\n",
              "            color:  green;\n",
              "            font-weight:  700;\n",
              "        }#T_a45c1_row0_col1,#T_a45c1_row0_col2,#T_a45c1_row0_col3,#T_a45c1_row0_col5,#T_a45c1_row0_col6,#T_a45c1_row0_col7,#T_a45c1_row0_col8,#T_a45c1_row0_col9,#T_a45c1_row1_col0,#T_a45c1_row1_col1,#T_a45c1_row1_col2,#T_a45c1_row1_col4,#T_a45c1_row1_col5,#T_a45c1_row1_col6,#T_a45c1_row1_col7,#T_a45c1_row1_col8,#T_a45c1_row1_col9,#T_a45c1_row2_col0,#T_a45c1_row2_col1,#T_a45c1_row2_col2,#T_a45c1_row2_col3,#T_a45c1_row2_col4,#T_a45c1_row2_col5,#T_a45c1_row2_col6,#T_a45c1_row2_col8,#T_a45c1_row2_col9,#T_a45c1_row3_col0,#T_a45c1_row3_col1,#T_a45c1_row3_col2,#T_a45c1_row3_col3,#T_a45c1_row3_col4,#T_a45c1_row3_col5,#T_a45c1_row3_col7,#T_a45c1_row3_col8,#T_a45c1_row3_col9,#T_a45c1_row4_col1,#T_a45c1_row4_col2,#T_a45c1_row4_col3,#T_a45c1_row4_col4,#T_a45c1_row4_col5,#T_a45c1_row4_col6,#T_a45c1_row4_col7,#T_a45c1_row4_col8,#T_a45c1_row4_col9,#T_a45c1_row4_col10,#T_a45c1_row5_col0,#T_a45c1_row5_col1,#T_a45c1_row5_col3,#T_a45c1_row5_col4,#T_a45c1_row5_col5,#T_a45c1_row5_col6,#T_a45c1_row5_col7,#T_a45c1_row5_col8,#T_a45c1_row5_col9,#T_a45c1_row6_col0,#T_a45c1_row6_col1,#T_a45c1_row6_col3,#T_a45c1_row6_col4,#T_a45c1_row6_col5,#T_a45c1_row6_col6,#T_a45c1_row6_col7,#T_a45c1_row6_col8,#T_a45c1_row6_col9,#T_a45c1_row7_col0,#T_a45c1_row7_col2,#T_a45c1_row7_col3,#T_a45c1_row7_col4,#T_a45c1_row7_col5,#T_a45c1_row7_col6,#T_a45c1_row7_col7,#T_a45c1_row7_col8,#T_a45c1_row7_col9,#T_a45c1_row8_col0,#T_a45c1_row8_col1,#T_a45c1_row8_col3,#T_a45c1_row8_col4,#T_a45c1_row8_col5,#T_a45c1_row8_col6,#T_a45c1_row8_col7,#T_a45c1_row8_col8,#T_a45c1_row8_col9,#T_a45c1_row9_col0,#T_a45c1_row9_col1,#T_a45c1_row9_col2,#T_a45c1_row9_col3,#T_a45c1_row9_col6,#T_a45c1_row9_col8,#T_a45c1_row10_col0,#T_a45c1_row10_col1,#T_a45c1_row10_col2,#T_a45c1_row10_col3,#T_a45c1_row10_col5,#T_a45c1_row10_col7,#T_a45c1_row10_col9,#T_a45c1_row11_col0,#T_a45c1_row11_col1,#T_a45c1_row11_col2,#T_a45c1_row11_col3,#T_a45c1_row11_col4,#T_a45c1_row11_col6,#T_a45c1_row11_col8,#T_a45c1_row11_col9,#T_a45c1_row12_col0,#T_a45c1_row12_col1,#T_a45c1_row12_col3,#T_a45c1_row12_col4,#T_a45c1_row12_col6,#T_a45c1_row12_col7,#T_a45c1_row12_col8,#T_a45c1_row12_col9,#T_a45c1_row13_col1,#T_a45c1_row13_col2,#T_a45c1_row13_col3,#T_a45c1_row13_col4,#T_a45c1_row13_col5,#T_a45c1_row13_col6,#T_a45c1_row13_col7,#T_a45c1_row13_col8,#T_a45c1_row13_col9,#T_a45c1_row13_col10,#T_a45c1_row14_col0,#T_a45c1_row14_col1,#T_a45c1_row14_col2,#T_a45c1_row14_col3,#T_a45c1_row14_col5,#T_a45c1_row14_col6,#T_a45c1_row14_col7,#T_a45c1_row14_col8,#T_a45c1_row14_col9{\n",
              "            color:  black;\n",
              "            font-weight:  400;\n",
              "        }</style><table id=\"T_a45c1_\" ><thead>    <tr>        <th class=\"blank level0\" ></th>        <th class=\"col_heading level0 col0\" >Topic0</th>        <th class=\"col_heading level0 col1\" >Topic1</th>        <th class=\"col_heading level0 col2\" >Topic2</th>        <th class=\"col_heading level0 col3\" >Topic3</th>        <th class=\"col_heading level0 col4\" >Topic4</th>        <th class=\"col_heading level0 col5\" >Topic5</th>        <th class=\"col_heading level0 col6\" >Topic6</th>        <th class=\"col_heading level0 col7\" >Topic7</th>        <th class=\"col_heading level0 col8\" >Topic8</th>        <th class=\"col_heading level0 col9\" >Topic9</th>        <th class=\"col_heading level0 col10\" >dominant_topic</th>    </tr></thead><tbody>\n",
              "                <tr>\n",
              "                        <th id=\"T_a45c1_level0_row0\" class=\"row_heading level0 row0\" >Doc0</th>\n",
              "                        <td id=\"T_a45c1_row0_col0\" class=\"data row0 col0\" >0.200000</td>\n",
              "                        <td id=\"T_a45c1_row0_col1\" class=\"data row0 col1\" >0.020000</td>\n",
              "                        <td id=\"T_a45c1_row0_col2\" class=\"data row0 col2\" >0.020000</td>\n",
              "                        <td id=\"T_a45c1_row0_col3\" class=\"data row0 col3\" >0.020000</td>\n",
              "                        <td id=\"T_a45c1_row0_col4\" class=\"data row0 col4\" >0.670000</td>\n",
              "                        <td id=\"T_a45c1_row0_col5\" class=\"data row0 col5\" >0.020000</td>\n",
              "                        <td id=\"T_a45c1_row0_col6\" class=\"data row0 col6\" >0.020000</td>\n",
              "                        <td id=\"T_a45c1_row0_col7\" class=\"data row0 col7\" >0.020000</td>\n",
              "                        <td id=\"T_a45c1_row0_col8\" class=\"data row0 col8\" >0.020000</td>\n",
              "                        <td id=\"T_a45c1_row0_col9\" class=\"data row0 col9\" >0.020000</td>\n",
              "                        <td id=\"T_a45c1_row0_col10\" class=\"data row0 col10\" >4</td>\n",
              "            </tr>\n",
              "            <tr>\n",
              "                        <th id=\"T_a45c1_level0_row1\" class=\"row_heading level0 row1\" >Doc1</th>\n",
              "                        <td id=\"T_a45c1_row1_col0\" class=\"data row1 col0\" >0.030000</td>\n",
              "                        <td id=\"T_a45c1_row1_col1\" class=\"data row1 col1\" >0.030000</td>\n",
              "                        <td id=\"T_a45c1_row1_col2\" class=\"data row1 col2\" >0.030000</td>\n",
              "                        <td id=\"T_a45c1_row1_col3\" class=\"data row1 col3\" >0.770000</td>\n",
              "                        <td id=\"T_a45c1_row1_col4\" class=\"data row1 col4\" >0.030000</td>\n",
              "                        <td id=\"T_a45c1_row1_col5\" class=\"data row1 col5\" >0.030000</td>\n",
              "                        <td id=\"T_a45c1_row1_col6\" class=\"data row1 col6\" >0.030000</td>\n",
              "                        <td id=\"T_a45c1_row1_col7\" class=\"data row1 col7\" >0.030000</td>\n",
              "                        <td id=\"T_a45c1_row1_col8\" class=\"data row1 col8\" >0.030000</td>\n",
              "                        <td id=\"T_a45c1_row1_col9\" class=\"data row1 col9\" >0.030000</td>\n",
              "                        <td id=\"T_a45c1_row1_col10\" class=\"data row1 col10\" >3</td>\n",
              "            </tr>\n",
              "            <tr>\n",
              "                        <th id=\"T_a45c1_level0_row2\" class=\"row_heading level0 row2\" >Doc2</th>\n",
              "                        <td id=\"T_a45c1_row2_col0\" class=\"data row2 col0\" >0.010000</td>\n",
              "                        <td id=\"T_a45c1_row2_col1\" class=\"data row2 col1\" >0.010000</td>\n",
              "                        <td id=\"T_a45c1_row2_col2\" class=\"data row2 col2\" >0.010000</td>\n",
              "                        <td id=\"T_a45c1_row2_col3\" class=\"data row2 col3\" >0.010000</td>\n",
              "                        <td id=\"T_a45c1_row2_col4\" class=\"data row2 col4\" >0.010000</td>\n",
              "                        <td id=\"T_a45c1_row2_col5\" class=\"data row2 col5\" >0.010000</td>\n",
              "                        <td id=\"T_a45c1_row2_col6\" class=\"data row2 col6\" >0.010000</td>\n",
              "                        <td id=\"T_a45c1_row2_col7\" class=\"data row2 col7\" >0.890000</td>\n",
              "                        <td id=\"T_a45c1_row2_col8\" class=\"data row2 col8\" >0.010000</td>\n",
              "                        <td id=\"T_a45c1_row2_col9\" class=\"data row2 col9\" >0.010000</td>\n",
              "                        <td id=\"T_a45c1_row2_col10\" class=\"data row2 col10\" >7</td>\n",
              "            </tr>\n",
              "            <tr>\n",
              "                        <th id=\"T_a45c1_level0_row3\" class=\"row_heading level0 row3\" >Doc3</th>\n",
              "                        <td id=\"T_a45c1_row3_col0\" class=\"data row3 col0\" >0.030000</td>\n",
              "                        <td id=\"T_a45c1_row3_col1\" class=\"data row3 col1\" >0.030000</td>\n",
              "                        <td id=\"T_a45c1_row3_col2\" class=\"data row3 col2\" >0.030000</td>\n",
              "                        <td id=\"T_a45c1_row3_col3\" class=\"data row3 col3\" >0.030000</td>\n",
              "                        <td id=\"T_a45c1_row3_col4\" class=\"data row3 col4\" >0.030000</td>\n",
              "                        <td id=\"T_a45c1_row3_col5\" class=\"data row3 col5\" >0.030000</td>\n",
              "                        <td id=\"T_a45c1_row3_col6\" class=\"data row3 col6\" >0.700000</td>\n",
              "                        <td id=\"T_a45c1_row3_col7\" class=\"data row3 col7\" >0.030000</td>\n",
              "                        <td id=\"T_a45c1_row3_col8\" class=\"data row3 col8\" >0.030000</td>\n",
              "                        <td id=\"T_a45c1_row3_col9\" class=\"data row3 col9\" >0.030000</td>\n",
              "                        <td id=\"T_a45c1_row3_col10\" class=\"data row3 col10\" >6</td>\n",
              "            </tr>\n",
              "            <tr>\n",
              "                        <th id=\"T_a45c1_level0_row4\" class=\"row_heading level0 row4\" >Doc4</th>\n",
              "                        <td id=\"T_a45c1_row4_col0\" class=\"data row4 col0\" >0.700000</td>\n",
              "                        <td id=\"T_a45c1_row4_col1\" class=\"data row4 col1\" >0.030000</td>\n",
              "                        <td id=\"T_a45c1_row4_col2\" class=\"data row4 col2\" >0.030000</td>\n",
              "                        <td id=\"T_a45c1_row4_col3\" class=\"data row4 col3\" >0.030000</td>\n",
              "                        <td id=\"T_a45c1_row4_col4\" class=\"data row4 col4\" >0.030000</td>\n",
              "                        <td id=\"T_a45c1_row4_col5\" class=\"data row4 col5\" >0.030000</td>\n",
              "                        <td id=\"T_a45c1_row4_col6\" class=\"data row4 col6\" >0.030000</td>\n",
              "                        <td id=\"T_a45c1_row4_col7\" class=\"data row4 col7\" >0.030000</td>\n",
              "                        <td id=\"T_a45c1_row4_col8\" class=\"data row4 col8\" >0.030000</td>\n",
              "                        <td id=\"T_a45c1_row4_col9\" class=\"data row4 col9\" >0.030000</td>\n",
              "                        <td id=\"T_a45c1_row4_col10\" class=\"data row4 col10\" >0</td>\n",
              "            </tr>\n",
              "            <tr>\n",
              "                        <th id=\"T_a45c1_level0_row5\" class=\"row_heading level0 row5\" >Doc5</th>\n",
              "                        <td id=\"T_a45c1_row5_col0\" class=\"data row5 col0\" >0.020000</td>\n",
              "                        <td id=\"T_a45c1_row5_col1\" class=\"data row5 col1\" >0.020000</td>\n",
              "                        <td id=\"T_a45c1_row5_col2\" class=\"data row5 col2\" >0.820000</td>\n",
              "                        <td id=\"T_a45c1_row5_col3\" class=\"data row5 col3\" >0.020000</td>\n",
              "                        <td id=\"T_a45c1_row5_col4\" class=\"data row5 col4\" >0.020000</td>\n",
              "                        <td id=\"T_a45c1_row5_col5\" class=\"data row5 col5\" >0.020000</td>\n",
              "                        <td id=\"T_a45c1_row5_col6\" class=\"data row5 col6\" >0.020000</td>\n",
              "                        <td id=\"T_a45c1_row5_col7\" class=\"data row5 col7\" >0.020000</td>\n",
              "                        <td id=\"T_a45c1_row5_col8\" class=\"data row5 col8\" >0.020000</td>\n",
              "                        <td id=\"T_a45c1_row5_col9\" class=\"data row5 col9\" >0.020000</td>\n",
              "                        <td id=\"T_a45c1_row5_col10\" class=\"data row5 col10\" >2</td>\n",
              "            </tr>\n",
              "            <tr>\n",
              "                        <th id=\"T_a45c1_level0_row6\" class=\"row_heading level0 row6\" >Doc6</th>\n",
              "                        <td id=\"T_a45c1_row6_col0\" class=\"data row6 col0\" >0.030000</td>\n",
              "                        <td id=\"T_a45c1_row6_col1\" class=\"data row6 col1\" >0.030000</td>\n",
              "                        <td id=\"T_a45c1_row6_col2\" class=\"data row6 col2\" >0.770000</td>\n",
              "                        <td id=\"T_a45c1_row6_col3\" class=\"data row6 col3\" >0.030000</td>\n",
              "                        <td id=\"T_a45c1_row6_col4\" class=\"data row6 col4\" >0.030000</td>\n",
              "                        <td id=\"T_a45c1_row6_col5\" class=\"data row6 col5\" >0.030000</td>\n",
              "                        <td id=\"T_a45c1_row6_col6\" class=\"data row6 col6\" >0.030000</td>\n",
              "                        <td id=\"T_a45c1_row6_col7\" class=\"data row6 col7\" >0.030000</td>\n",
              "                        <td id=\"T_a45c1_row6_col8\" class=\"data row6 col8\" >0.030000</td>\n",
              "                        <td id=\"T_a45c1_row6_col9\" class=\"data row6 col9\" >0.030000</td>\n",
              "                        <td id=\"T_a45c1_row6_col10\" class=\"data row6 col10\" >2</td>\n",
              "            </tr>\n",
              "            <tr>\n",
              "                        <th id=\"T_a45c1_level0_row7\" class=\"row_heading level0 row7\" >Doc7</th>\n",
              "                        <td id=\"T_a45c1_row7_col0\" class=\"data row7 col0\" >0.030000</td>\n",
              "                        <td id=\"T_a45c1_row7_col1\" class=\"data row7 col1\" >0.770000</td>\n",
              "                        <td id=\"T_a45c1_row7_col2\" class=\"data row7 col2\" >0.030000</td>\n",
              "                        <td id=\"T_a45c1_row7_col3\" class=\"data row7 col3\" >0.030000</td>\n",
              "                        <td id=\"T_a45c1_row7_col4\" class=\"data row7 col4\" >0.030000</td>\n",
              "                        <td id=\"T_a45c1_row7_col5\" class=\"data row7 col5\" >0.030000</td>\n",
              "                        <td id=\"T_a45c1_row7_col6\" class=\"data row7 col6\" >0.030000</td>\n",
              "                        <td id=\"T_a45c1_row7_col7\" class=\"data row7 col7\" >0.030000</td>\n",
              "                        <td id=\"T_a45c1_row7_col8\" class=\"data row7 col8\" >0.030000</td>\n",
              "                        <td id=\"T_a45c1_row7_col9\" class=\"data row7 col9\" >0.030000</td>\n",
              "                        <td id=\"T_a45c1_row7_col10\" class=\"data row7 col10\" >1</td>\n",
              "            </tr>\n",
              "            <tr>\n",
              "                        <th id=\"T_a45c1_level0_row8\" class=\"row_heading level0 row8\" >Doc8</th>\n",
              "                        <td id=\"T_a45c1_row8_col0\" class=\"data row8 col0\" >0.030000</td>\n",
              "                        <td id=\"T_a45c1_row8_col1\" class=\"data row8 col1\" >0.030000</td>\n",
              "                        <td id=\"T_a45c1_row8_col2\" class=\"data row8 col2\" >0.770000</td>\n",
              "                        <td id=\"T_a45c1_row8_col3\" class=\"data row8 col3\" >0.030000</td>\n",
              "                        <td id=\"T_a45c1_row8_col4\" class=\"data row8 col4\" >0.030000</td>\n",
              "                        <td id=\"T_a45c1_row8_col5\" class=\"data row8 col5\" >0.030000</td>\n",
              "                        <td id=\"T_a45c1_row8_col6\" class=\"data row8 col6\" >0.030000</td>\n",
              "                        <td id=\"T_a45c1_row8_col7\" class=\"data row8 col7\" >0.030000</td>\n",
              "                        <td id=\"T_a45c1_row8_col8\" class=\"data row8 col8\" >0.030000</td>\n",
              "                        <td id=\"T_a45c1_row8_col9\" class=\"data row8 col9\" >0.030000</td>\n",
              "                        <td id=\"T_a45c1_row8_col10\" class=\"data row8 col10\" >2</td>\n",
              "            </tr>\n",
              "            <tr>\n",
              "                        <th id=\"T_a45c1_level0_row9\" class=\"row_heading level0 row9\" >Doc9</th>\n",
              "                        <td id=\"T_a45c1_row9_col0\" class=\"data row9 col0\" >0.010000</td>\n",
              "                        <td id=\"T_a45c1_row9_col1\" class=\"data row9 col1\" >0.010000</td>\n",
              "                        <td id=\"T_a45c1_row9_col2\" class=\"data row9 col2\" >0.010000</td>\n",
              "                        <td id=\"T_a45c1_row9_col3\" class=\"data row9 col3\" >0.010000</td>\n",
              "                        <td id=\"T_a45c1_row9_col4\" class=\"data row9 col4\" >0.150000</td>\n",
              "                        <td id=\"T_a45c1_row9_col5\" class=\"data row9 col5\" >0.310000</td>\n",
              "                        <td id=\"T_a45c1_row9_col6\" class=\"data row9 col6\" >0.010000</td>\n",
              "                        <td id=\"T_a45c1_row9_col7\" class=\"data row9 col7\" >0.280000</td>\n",
              "                        <td id=\"T_a45c1_row9_col8\" class=\"data row9 col8\" >0.010000</td>\n",
              "                        <td id=\"T_a45c1_row9_col9\" class=\"data row9 col9\" >0.180000</td>\n",
              "                        <td id=\"T_a45c1_row9_col10\" class=\"data row9 col10\" >5</td>\n",
              "            </tr>\n",
              "            <tr>\n",
              "                        <th id=\"T_a45c1_level0_row10\" class=\"row_heading level0 row10\" >Doc10</th>\n",
              "                        <td id=\"T_a45c1_row10_col0\" class=\"data row10 col0\" >0.010000</td>\n",
              "                        <td id=\"T_a45c1_row10_col1\" class=\"data row10 col1\" >0.010000</td>\n",
              "                        <td id=\"T_a45c1_row10_col2\" class=\"data row10 col2\" >0.010000</td>\n",
              "                        <td id=\"T_a45c1_row10_col3\" class=\"data row10 col3\" >0.010000</td>\n",
              "                        <td id=\"T_a45c1_row10_col4\" class=\"data row10 col4\" >0.440000</td>\n",
              "                        <td id=\"T_a45c1_row10_col5\" class=\"data row10 col5\" >0.010000</td>\n",
              "                        <td id=\"T_a45c1_row10_col6\" class=\"data row10 col6\" >0.210000</td>\n",
              "                        <td id=\"T_a45c1_row10_col7\" class=\"data row10 col7\" >0.010000</td>\n",
              "                        <td id=\"T_a45c1_row10_col8\" class=\"data row10 col8\" >0.260000</td>\n",
              "                        <td id=\"T_a45c1_row10_col9\" class=\"data row10 col9\" >0.010000</td>\n",
              "                        <td id=\"T_a45c1_row10_col10\" class=\"data row10 col10\" >4</td>\n",
              "            </tr>\n",
              "            <tr>\n",
              "                        <th id=\"T_a45c1_level0_row11\" class=\"row_heading level0 row11\" >Doc11</th>\n",
              "                        <td id=\"T_a45c1_row11_col0\" class=\"data row11 col0\" >0.010000</td>\n",
              "                        <td id=\"T_a45c1_row11_col1\" class=\"data row11 col1\" >0.010000</td>\n",
              "                        <td id=\"T_a45c1_row11_col2\" class=\"data row11 col2\" >0.010000</td>\n",
              "                        <td id=\"T_a45c1_row11_col3\" class=\"data row11 col3\" >0.010000</td>\n",
              "                        <td id=\"T_a45c1_row11_col4\" class=\"data row11 col4\" >0.010000</td>\n",
              "                        <td id=\"T_a45c1_row11_col5\" class=\"data row11 col5\" >0.370000</td>\n",
              "                        <td id=\"T_a45c1_row11_col6\" class=\"data row11 col6\" >0.010000</td>\n",
              "                        <td id=\"T_a45c1_row11_col7\" class=\"data row11 col7\" >0.530000</td>\n",
              "                        <td id=\"T_a45c1_row11_col8\" class=\"data row11 col8\" >0.010000</td>\n",
              "                        <td id=\"T_a45c1_row11_col9\" class=\"data row11 col9\" >0.010000</td>\n",
              "                        <td id=\"T_a45c1_row11_col10\" class=\"data row11 col10\" >7</td>\n",
              "            </tr>\n",
              "            <tr>\n",
              "                        <th id=\"T_a45c1_level0_row12\" class=\"row_heading level0 row12\" >Doc12</th>\n",
              "                        <td id=\"T_a45c1_row12_col0\" class=\"data row12 col0\" >0.020000</td>\n",
              "                        <td id=\"T_a45c1_row12_col1\" class=\"data row12 col1\" >0.020000</td>\n",
              "                        <td id=\"T_a45c1_row12_col2\" class=\"data row12 col2\" >0.380000</td>\n",
              "                        <td id=\"T_a45c1_row12_col3\" class=\"data row12 col3\" >0.020000</td>\n",
              "                        <td id=\"T_a45c1_row12_col4\" class=\"data row12 col4\" >0.020000</td>\n",
              "                        <td id=\"T_a45c1_row12_col5\" class=\"data row12 col5\" >0.480000</td>\n",
              "                        <td id=\"T_a45c1_row12_col6\" class=\"data row12 col6\" >0.020000</td>\n",
              "                        <td id=\"T_a45c1_row12_col7\" class=\"data row12 col7\" >0.020000</td>\n",
              "                        <td id=\"T_a45c1_row12_col8\" class=\"data row12 col8\" >0.020000</td>\n",
              "                        <td id=\"T_a45c1_row12_col9\" class=\"data row12 col9\" >0.020000</td>\n",
              "                        <td id=\"T_a45c1_row12_col10\" class=\"data row12 col10\" >5</td>\n",
              "            </tr>\n",
              "            <tr>\n",
              "                        <th id=\"T_a45c1_level0_row13\" class=\"row_heading level0 row13\" >Doc13</th>\n",
              "                        <td id=\"T_a45c1_row13_col0\" class=\"data row13 col0\" >0.700000</td>\n",
              "                        <td id=\"T_a45c1_row13_col1\" class=\"data row13 col1\" >0.030000</td>\n",
              "                        <td id=\"T_a45c1_row13_col2\" class=\"data row13 col2\" >0.030000</td>\n",
              "                        <td id=\"T_a45c1_row13_col3\" class=\"data row13 col3\" >0.030000</td>\n",
              "                        <td id=\"T_a45c1_row13_col4\" class=\"data row13 col4\" >0.030000</td>\n",
              "                        <td id=\"T_a45c1_row13_col5\" class=\"data row13 col5\" >0.030000</td>\n",
              "                        <td id=\"T_a45c1_row13_col6\" class=\"data row13 col6\" >0.030000</td>\n",
              "                        <td id=\"T_a45c1_row13_col7\" class=\"data row13 col7\" >0.030000</td>\n",
              "                        <td id=\"T_a45c1_row13_col8\" class=\"data row13 col8\" >0.030000</td>\n",
              "                        <td id=\"T_a45c1_row13_col9\" class=\"data row13 col9\" >0.030000</td>\n",
              "                        <td id=\"T_a45c1_row13_col10\" class=\"data row13 col10\" >0</td>\n",
              "            </tr>\n",
              "            <tr>\n",
              "                        <th id=\"T_a45c1_level0_row14\" class=\"row_heading level0 row14\" >Doc14</th>\n",
              "                        <td id=\"T_a45c1_row14_col0\" class=\"data row14 col0\" >0.030000</td>\n",
              "                        <td id=\"T_a45c1_row14_col1\" class=\"data row14 col1\" >0.030000</td>\n",
              "                        <td id=\"T_a45c1_row14_col2\" class=\"data row14 col2\" >0.030000</td>\n",
              "                        <td id=\"T_a45c1_row14_col3\" class=\"data row14 col3\" >0.030000</td>\n",
              "                        <td id=\"T_a45c1_row14_col4\" class=\"data row14 col4\" >0.770000</td>\n",
              "                        <td id=\"T_a45c1_row14_col5\" class=\"data row14 col5\" >0.030000</td>\n",
              "                        <td id=\"T_a45c1_row14_col6\" class=\"data row14 col6\" >0.030000</td>\n",
              "                        <td id=\"T_a45c1_row14_col7\" class=\"data row14 col7\" >0.030000</td>\n",
              "                        <td id=\"T_a45c1_row14_col8\" class=\"data row14 col8\" >0.030000</td>\n",
              "                        <td id=\"T_a45c1_row14_col9\" class=\"data row14 col9\" >0.030000</td>\n",
              "                        <td id=\"T_a45c1_row14_col10\" class=\"data row14 col10\" >4</td>\n",
              "            </tr>\n",
              "    </tbody></table>"
            ],
            "text/plain": [
              "<pandas.io.formats.style.Styler at 0x7ff0f759bfd0>"
            ]
          },
          "metadata": {
            "tags": []
          },
          "execution_count": 26
        }
      ]
    },
    {
      "cell_type": "code",
      "metadata": {
        "colab": {
          "base_uri": "https://localhost:8080/",
          "height": 359
        },
        "id": "qgizijb4f7gl",
        "outputId": "acef7a25-1aa7-42de-c903-41902c4a949b"
      },
      "source": [
        "df_topic_distribution = df_document_topic['dominant_topic'].value_counts().reset_index(name=\"Num Documents\")\n",
        "df_topic_distribution.columns = ['Topic Num', 'Num Documents']\n",
        "df_topic_distribution"
      ],
      "execution_count": 27,
      "outputs": [
        {
          "output_type": "execute_result",
          "data": {
            "text/html": [
              "<div>\n",
              "<style scoped>\n",
              "    .dataframe tbody tr th:only-of-type {\n",
              "        vertical-align: middle;\n",
              "    }\n",
              "\n",
              "    .dataframe tbody tr th {\n",
              "        vertical-align: top;\n",
              "    }\n",
              "\n",
              "    .dataframe thead th {\n",
              "        text-align: right;\n",
              "    }\n",
              "</style>\n",
              "<table border=\"1\" class=\"dataframe\">\n",
              "  <thead>\n",
              "    <tr style=\"text-align: right;\">\n",
              "      <th></th>\n",
              "      <th>Topic Num</th>\n",
              "      <th>Num Documents</th>\n",
              "    </tr>\n",
              "  </thead>\n",
              "  <tbody>\n",
              "    <tr>\n",
              "      <th>0</th>\n",
              "      <td>0</td>\n",
              "      <td>558</td>\n",
              "    </tr>\n",
              "    <tr>\n",
              "      <th>1</th>\n",
              "      <td>4</td>\n",
              "      <td>474</td>\n",
              "    </tr>\n",
              "    <tr>\n",
              "      <th>2</th>\n",
              "      <td>1</td>\n",
              "      <td>396</td>\n",
              "    </tr>\n",
              "    <tr>\n",
              "      <th>3</th>\n",
              "      <td>5</td>\n",
              "      <td>386</td>\n",
              "    </tr>\n",
              "    <tr>\n",
              "      <th>4</th>\n",
              "      <td>2</td>\n",
              "      <td>379</td>\n",
              "    </tr>\n",
              "    <tr>\n",
              "      <th>5</th>\n",
              "      <td>9</td>\n",
              "      <td>341</td>\n",
              "    </tr>\n",
              "    <tr>\n",
              "      <th>6</th>\n",
              "      <td>6</td>\n",
              "      <td>337</td>\n",
              "    </tr>\n",
              "    <tr>\n",
              "      <th>7</th>\n",
              "      <td>8</td>\n",
              "      <td>332</td>\n",
              "    </tr>\n",
              "    <tr>\n",
              "      <th>8</th>\n",
              "      <td>7</td>\n",
              "      <td>296</td>\n",
              "    </tr>\n",
              "    <tr>\n",
              "      <th>9</th>\n",
              "      <td>3</td>\n",
              "      <td>291</td>\n",
              "    </tr>\n",
              "  </tbody>\n",
              "</table>\n",
              "</div>"
            ],
            "text/plain": [
              "   Topic Num  Num Documents\n",
              "0          0            558\n",
              "1          4            474\n",
              "2          1            396\n",
              "3          5            386\n",
              "4          2            379\n",
              "5          9            341\n",
              "6          6            337\n",
              "7          8            332\n",
              "8          7            296\n",
              "9          3            291"
            ]
          },
          "metadata": {
            "tags": []
          },
          "execution_count": 27
        }
      ]
    },
    {
      "cell_type": "markdown",
      "metadata": {
        "id": "4ryvLW_NwGFi"
      },
      "source": [
        "# Visualization"
      ]
    },
    {
      "cell_type": "code",
      "metadata": {
        "colab": {
          "base_uri": "https://localhost:8080/",
          "height": 861
        },
        "id": "BwN-nHsFwFdD",
        "outputId": "85a9c96c-6aaf-4620-ccce-1a52cf4cd0b3"
      },
      "source": [
        "pyLDAvis.enable_notebook()\n",
        "panel = pyLDAvis.sklearn.prepare(best_lda_model, data_vectorized, vectorizer, mds='tsne')\n",
        "panel"
      ],
      "execution_count": 28,
      "outputs": [
        {
          "output_type": "execute_result",
          "data": {
            "text/html": [
              "\n",
              "<link rel=\"stylesheet\" type=\"text/css\" href=\"https://cdn.jsdelivr.net/gh/bmabey/pyLDAvis@3.3.1/pyLDAvis/js/ldavis.v1.0.0.css\">\n",
              "\n",
              "\n",
              "<div id=\"ldavis_el5691406729129292328305834827\"></div>\n",
              "<script type=\"text/javascript\">\n",
              "\n",
              "var ldavis_el5691406729129292328305834827_data = {\"mdsDat\": {\"x\": [32.42095184326172, 0.648955225944519, 71.01968383789062, 3.7859814167022705, -42.666500091552734, -3.6216893196105957, -3.632401704788208, -36.58440017700195, 44.391380310058594, 40.235809326171875], \"y\": [8.115229606628418, 71.70709991455078, 9.971006393432617, 33.18513488769531, -9.22206974029541, -43.52651596069336, -4.171707630157471, 35.804412841796875, 50.61538314819336, -31.591665267944336], \"topics\": [1, 2, 3, 4, 5, 6, 7, 8, 9, 10], \"cluster\": [1, 1, 1, 1, 1, 1, 1, 1, 1, 1], \"Freq\": [11.831713984712167, 11.469258521382049, 11.315987649923837, 11.302987439936713, 10.102929354971915, 10.087566804089455, 8.573821545334445, 8.539539860049148, 8.485911157269735, 8.290283682330536]}, \"tinfo\": {\"Term\": [\"team\", \"pay\", \"need\", \"work\", \"people\", \"job\", \"good\", \"leadership\", \"benefit\", \"care\", \"management\", \"communication\", \"just\", \"help\", \"worker\", \"time\", \"make\", \"company\", \"great\", \"customer\", \"employee\", \"manager\", \"new\", \"insurance\", \"interview\", \"hard\", \"hire\", \"coworker\", \"easy\", \"nice\", \"pay\", \"dental\", \"schedule\", \"awesome\", \"attention\", \"vacation\", \"low\", \"worth\", \"hour\", \"offer\", \"comfortable\", \"hard\", \"market\", \"overall\", \"fix\", \"time\", \"home\", \"leave\", \"area\", \"feel\", \"wage\", \"difference\", \"incentive\", \"rate\", \"money\", \"par\", \"line\", \"poor\", \"facility\", \"especially\", \"make\", \"work\", \"high\", \"bonus\", \"day\", \"lot\", \"employee\", \"company\", \"manager\", \"benefit\", \"good\", \"know\", \"create\", \"profit\", \"woman\", \"strong\", \"treat\", \"increase\", \"value\", \"compare\", \"respect\", \"member\", \"option\", \"stock\", \"spend\", \"annual\", \"senior\", \"raise\", \"flexible\", \"concern\", \"change\", \"motivation\", \"week\", \"goal\", \"cover\", \"ceo\", \"non\", \"individual\", \"lose\", \"sharing\", \"cut\", \"cost\", \"great\", \"manager\", \"lead\", \"fairly\", \"leadership\", \"employee\", \"company\", \"right\", \"bonus\", \"salary\", \"year\", \"level\", \"base\", \"focus\", \"management\", \"make\", \"benefit\", \"face\", \"corporate\", \"talk\", \"stay\", \"appreciation\", \"quality\", \"communicate\", \"customer\", \"supportive\", \"walk\", \"ethic\", \"service\", \"worker\", \"negative\", \"improve\", \"pick\", \"meeting\", \"workplace\", \"morale\", \"start\", \"encouraging\", \"solution\", \"leadership\", \"enjoy\", \"come\", \"willingness\", \"satisfaction\", \"friendly\", \"know\", \"focus\", \"need\", \"issue\", \"help\", \"work\", \"management\", \"team\", \"communication\", \"employee\", \"hard\", \"actually\", \"manager\", \"time\", \"coworker\", \"stop\", \"term\", \"phone\", \"follow\", \"field\", \"listen\", \"strategy\", \"care\", \"simple\", \"standard\", \"learning\", \"politic\", \"really\", \"think\", \"process\", \"lack\", \"understanding\", \"transparency\", \"industry\", \"consider\", \"test\", \"executive\", \"role\", \"clear\", \"long\", \"need\", \"qualified\", \"delivery\", \"force\", \"bad\", \"expect\", \"skill\", \"employee\", \"level\", \"make\", \"interview\", \"want\", \"people\", \"look\", \"store\", \"way\", \"base\", \"ask\", \"just\", \"balance\", \"meet\", \"complete\", \"happen\", \"update\", \"life\", \"job\", \"certain\", \"say\", \"task\", \"happy\", \"lie\", \"straight\", \"let\", \"appreciate\", \"effective\", \"person\", \"month\", \"use\", \"difficult\", \"hire\", \"forward\", \"day\", \"question\", \"experience\", \"drama\", \"crew\", \"room\", \"actually\", \"lot\", \"like\", \"interview\", \"people\", \"make\", \"work\", \"manager\", \"time\", \"worker\", \"challenge\", \"growth\", \"able\", \"career\", \"smart\", \"interact\", \"everyday\", \"information\", \"working\", \"deliver\", \"collaborative\", \"learn\", \"technology\", \"client\", \"situation\", \"real\", \"new\", \"positive\", \"regard\", \"commit\", \"excellent\", \"provide\", \"thing\", \"live\", \"technical\", \"people\", \"contract\", \"view\", \"expect\", \"big\", \"environment\", \"opportunity\", \"work\", \"hire\", \"good\", \"company\", \"experience\", \"question\", \"know\", \"family\", \"support\", \"trust\", \"collaboration\", \"activity\", \"security\", \"amazing\", \"interaction\", \"colleague\", \"break\", \"team\", \"speak\", \"favoritism\", \"self\", \"join\", \"integrity\", \"solve\", \"purpose\", \"like\", \"end\", \"sure\", \"flexibility\", \"point\", \"direction\", \"problem\", \"try\", \"drive\", \"number\", \"feeling\", \"spirit\", \"stop\", \"helpful\", \"good\", \"work\", \"culture\", \"great\", \"improve\", \"new\", \"day\", \"job\", \"employee\", \"management\", \"company\", \"project\", \"kind\", \"quick\", \"passion\", \"slow\", \"professional\", \"fast\", \"easy\", \"department\", \"nice\", \"place\", \"constantly\", \"efficient\", \"communication\", \"policy\", \"resource\", \"coworker\", \"encourage\", \"boss\", \"atmosphere\", \"management\", \"drive\", \"rid\", \"earn\", \"pretty\", \"commitment\", \"train\", \"answer\", \"shift\", \"basic\", \"human\", \"interview\", \"training\", \"good\", \"people\", \"manager\", \"employee\", \"work\", \"lead\", \"love\", \"genuinely\", \"successful\", \"wait\", \"engage\", \"group\", \"diversity\", \"open\", \"food\", \"different\", \"total\", \"willing\", \"free\", \"help\", \"development\", \"helpful\", \"cultural\", \"daily\", \"transparent\", \"product\", \"reward\", \"talent\", \"build\", \"friend\", \"important\", \"culture\", \"associate\", \"ability\", \"environment\", \"direct\", \"good\", \"company\", \"way\", \"feel\", \"people\", \"bonus\", \"work\", \"look\", \"friendly\", \"great\", \"leader\", \"fair\", \"insurance\", \"plan\", \"effort\", \"hike\", \"receive\", \"match\", \"health\", \"retirement\", \"business\", \"available\", \"package\", \"interviewer\", \"share\", \"competitive\", \"sale\", \"include\", \"knowledgeable\", \"medical\", \"benefit\", \"fun\", \"equal\", \"teamwork\", \"compensation\", \"office\", \"salary\", \"highly\", \"diverse\", \"ensure\", \"opportunity\", \"good\", \"grow\", \"great\", \"company\", \"employee\", \"base\", \"care\"], \"Freq\": [385.0, 251.0, 311.0, 792.0, 378.0, 170.0, 375.0, 162.0, 133.0, 129.0, 162.0, 108.0, 86.0, 104.0, 131.0, 155.0, 206.0, 259.0, 187.0, 95.0, 397.0, 179.0, 98.0, 56.0, 116.0, 99.0, 98.0, 78.0, 59.0, 63.0, 250.5320887708948, 18.256966322735142, 17.301103825344683, 15.389385148077102, 15.38213806730225, 10.605816491496858, 45.854923985052096, 9.539573410995523, 50.34969811452591, 49.017768985730015, 13.357558506197568, 72.59974619649493, 21.54625943784489, 12.451041847691725, 12.997059535195936, 98.609137752426, 11.342814372174987, 22.714056718534064, 17.760544367348764, 59.4135455209099, 16.233502827563406, 8.315251282129493, 8.751492848092756, 14.112497474288695, 29.72893273538264, 5.830740272328195, 8.569739062493634, 12.518387630316237, 5.830813988908143, 11.003843216799565, 85.16739971225637, 303.4197358725652, 19.62136209143816, 16.854189277686594, 23.335684002445195, 20.128818965642832, 38.11585181222771, 25.62586414586199, 17.46629553206036, 15.739165316524366, 16.695352967403863, 13.624240969142146, 18.516065030269946, 14.747475603340602, 13.770818484107238, 23.35510128491001, 54.43226317785055, 26.18652476038852, 61.707267278709416, 12.621408032977723, 52.76368293201439, 30.00967087126602, 21.84452136098625, 26.467389422883457, 12.79417513848444, 12.498788670809764, 12.15745257471848, 36.11232649799824, 9.647109141772297, 8.794338137079954, 49.64584027883252, 11.555972973262891, 12.794291052656744, 22.560252283790533, 12.974986079885486, 8.18377714066563, 10.840921174201677, 21.504202297544232, 8.450858405766143, 8.79563668121985, 8.844870095286533, 12.462826351100755, 97.6910829732431, 84.47611003851878, 20.23201431456022, 18.138360779108808, 62.945792099781535, 111.70011028965027, 75.87211270650818, 13.745229818204265, 19.979343170834603, 21.852217402191048, 20.246980622955576, 19.625630227400762, 17.200406898472473, 17.213246318054257, 19.693654352139383, 19.333175196537812, 17.89900443231119, 18.740750330002868, 14.815984986506155, 39.44151244909478, 11.872408616745945, 11.869270171326233, 42.992294176908544, 27.707145792619528, 79.71942505209084, 31.047847114884885, 13.994743417676123, 13.790203095300425, 22.235758813307516, 102.28345533433178, 12.079662106253307, 59.8116802173086, 7.947593323425524, 23.80944222031714, 7.947711876774994, 13.599342914819477, 12.644490120150904, 7.826765713218818, 7.16198205497157, 98.85292462665383, 12.853652960623126, 22.88599280162305, 9.13227191583041, 7.916120063856379, 37.790940642769755, 39.38893794300677, 36.35217751906687, 94.8040492668793, 13.548459525529978, 30.409191406637856, 94.81136416553136, 35.67690344177832, 55.930518818674145, 25.96996881594681, 33.50724362242971, 20.471402610145397, 17.065208317842327, 22.238937810078397, 19.28182226599715, 16.2895886494783, 14.13380015323336, 21.112007564102047, 15.512753223761987, 13.591407561316682, 10.699601416650015, 40.72123260265905, 12.256265557334418, 113.49251127132234, 12.627500542143297, 24.904383394037872, 8.736034144784782, 11.64505202824593, 59.82844840544433, 37.76695908998886, 60.2794345788199, 17.337630087966446, 19.881658471892965, 33.813956666196205, 23.623432026173266, 7.685108031075299, 12.567542002882979, 12.188338075556915, 31.808492694684915, 14.144082808190566, 30.519933731198837, 198.19822447951103, 9.735725424531545, 7.807851344386641, 10.111898375248982, 23.82179546193475, 13.603103395745944, 25.519597616809964, 122.4204494809443, 28.605993042256276, 59.3823638833042, 38.29036323746018, 21.550355720654064, 43.68526873691784, 18.589239695836465, 17.447111972542352, 15.228521959248893, 14.057136196668514, 38.354237343762875, 84.06443838906148, 30.506811897404916, 29.525858028332912, 14.797024249007002, 13.821730837743873, 11.869199183533832, 44.57937212476488, 153.93419526413655, 13.46395319389617, 34.81739053599887, 27.262350546225132, 40.4741982053141, 18.50918557726599, 8.714946144489117, 7.945508217302997, 21.66412414575983, 11.247232123978263, 22.470097393395815, 8.21873005162872, 32.04183266360381, 9.374382579854764, 60.449166794745615, 10.407553356868469, 52.92012043273442, 28.658122601162393, 34.21623018615641, 5.983669061332201, 5.983677410916923, 6.081053293729905, 20.594755225106464, 28.121741184962477, 13.24084785959073, 29.93112804909044, 59.13051548481197, 36.42870634215634, 58.39875237436972, 29.69220312151463, 24.824271523377032, 14.595033548581984, 50.87365988869504, 39.3767770568918, 36.50255002576967, 33.62831016286881, 26.92180896990872, 19.25724497102582, 17.341101795104006, 14.466889089979286, 14.466854988515978, 12.550718085005927, 14.466959908267818, 44.115562438996164, 10.634658541154032, 46.635565617659125, 10.451389150815201, 12.550717759815164, 68.21098598442923, 33.03404444464387, 9.326484324212927, 6.8022172698896295, 7.390486867892193, 32.84661030185237, 51.88006446533897, 8.224824735148637, 16.699673005008936, 193.39205978207733, 6.314025556652036, 4.886174880402156, 11.580858754164307, 7.76039339703028, 36.05516302114189, 25.019761359418318, 145.28944208289067, 27.11168559607797, 48.7091106119097, 34.71886567883262, 13.688216690977061, 12.448339944959098, 12.656058521376668, 51.684402996484486, 44.87100366510966, 14.697434624578715, 14.697407815345482, 12.750755744662081, 12.75075495448335, 12.750746292777094, 9.830702377513957, 14.658470520998966, 15.463008924033725, 320.02611705774757, 13.72154452781433, 12.750783445492665, 10.762027529756566, 8.846548653614759, 13.068889721265148, 8.469410056231771, 8.684539411313931, 17.570756793439152, 12.057340260585018, 7.627272266248119, 6.621929133552801, 10.837443626408643, 5.574309696872125, 13.434718139263895, 14.962416303283323, 12.131454056069376, 6.946137846964512, 4.964090835681342, 5.327667941866159, 21.541581144743052, 9.11364420040796, 66.80192398567618, 103.3429871809722, 16.34656842780891, 22.78840335368304, 14.868631965347538, 15.995082408252296, 14.437900320116578, 15.838932997064909, 13.469838850877396, 12.056468356814994, 12.279675372403302, 35.38564162476915, 16.76160115278732, 15.781409678290007, 13.820978085932504, 11.860561906334125, 30.31632499529693, 26.465599931330864, 53.872456983494985, 20.6825500160201, 53.50346347598097, 27.58051425048294, 11.860578507423233, 16.551517836969236, 82.06887332497121, 27.85106412651191, 16.673059159574333, 54.610928291197304, 12.669159563263952, 9.735463485533463, 7.939750159596086, 94.51197218679805, 17.38528743552861, 7.06996352584452, 6.959605271670868, 12.84085435599549, 7.278072474313954, 18.500454885670763, 9.584019687261348, 6.959508323353812, 5.979316608563208, 11.595846267014844, 45.22577925206682, 12.496716811183266, 46.656244575186356, 41.988156354009675, 25.286691243125464, 35.70296848840973, 47.865757083465255, 11.757730028979955, 48.78933817209907, 15.998099236182457, 13.017118106899595, 11.029722609714097, 11.02965774047151, 25.861901999262837, 26.652331247103163, 35.04399917345678, 21.572191939468134, 24.790467576171757, 8.048781595925565, 12.730548361935154, 16.99191894016392, 72.05721172938661, 8.980386242221083, 17.72387724164315, 8.872991425419677, 10.036123149847636, 15.587735120677628, 15.991579844816147, 10.578475933501261, 12.792969285706691, 6.765535719669498, 11.029783805893455, 9.592612575526992, 49.29307191014118, 16.648886322697695, 9.974529605288335, 45.06810852541739, 5.70309636006848, 120.22964050002231, 79.0486096525101, 22.782088651650508, 22.895807964902662, 39.943951361747914, 14.120735362944082, 35.1949946483136, 13.206187089274655, 13.528492462701767, 15.367544757439774, 12.006903055387827, 50.0834638678462, 55.87112373147337, 29.019136535574763, 19.093646563478618, 17.094333514779954, 15.094979647596157, 14.095338088849985, 50.62550182853101, 12.096004535930579, 40.48929777547993, 10.096639102146975, 35.76890096426004, 23.032026825737567, 18.910923056059254, 13.093748907179393, 10.783447841132471, 8.257264316018942, 8.097403527681148, 14.57305018627623, 97.59625259624259, 23.330118554969637, 14.700325017460377, 13.311253094676013, 46.0255171954215, 14.74856023028649, 41.81163894185624, 8.880557669588198, 7.097655253226223, 6.223022832338806, 34.76746289244005, 75.53746898184959, 10.29832360147682, 33.10767867368992, 21.250536615486844, 23.52931035234806, 12.576517032771408, 13.959580220396871], \"Total\": [385.0, 251.0, 311.0, 792.0, 378.0, 170.0, 375.0, 162.0, 133.0, 129.0, 162.0, 108.0, 86.0, 104.0, 131.0, 155.0, 206.0, 259.0, 187.0, 95.0, 397.0, 179.0, 98.0, 56.0, 116.0, 99.0, 98.0, 78.0, 59.0, 63.0, 251.4129015580806, 19.137785575272627, 18.18191982492954, 16.270190377487186, 16.270522611834807, 11.490903218266954, 49.862467760423506, 11.514151424667089, 61.41806912760412, 61.37771765695166, 18.240636530914266, 99.9704307035742, 30.677895879544156, 18.222857442011943, 19.22025241656862, 155.28262240351518, 18.25705651665959, 36.57031672051352, 28.911337986120113, 100.67166504547959, 27.934207475182312, 14.513729499400949, 15.57472450514, 25.199114598008183, 55.15759083558084, 11.531207051544294, 17.387446040250953, 28.062799506219296, 13.474057407712392, 26.19668128845226, 206.66090261800395, 792.6474079975482, 64.86086019745294, 51.638062920277214, 91.48344932339096, 82.75542941354402, 397.95922576528244, 259.42357682706097, 179.64917600602038, 133.7605736160359, 375.51453943542646, 71.89717565705595, 19.533448072940757, 15.62618549805425, 14.649529891911971, 26.406606416024967, 61.577700661036666, 30.207667438846624, 71.44138235199482, 14.654498270599436, 61.53241172418215, 36.16032857526784, 26.372975954208147, 32.31441755609991, 15.633300531293582, 15.67917623451329, 15.638188307792324, 46.66866299771664, 12.660382586791684, 11.729071817744641, 66.2782893432099, 15.565463408565243, 17.59470732329472, 32.18104311029653, 18.613571407969292, 11.765863272687104, 15.612932464727063, 31.27079279979251, 12.652361610064789, 13.620787223995636, 14.579661109089995, 20.619450073367954, 187.54713883647122, 179.64917600602038, 36.194105409288234, 33.014881000218054, 162.58120020446526, 397.95922576528244, 259.42357682706097, 23.40454498837191, 51.638062920277214, 64.44261517812288, 57.33292373287478, 70.80971383682319, 52.708476489828854, 70.38176825823888, 162.58963787572506, 206.66090261800395, 133.7605736160359, 19.619021962592438, 15.694250072023431, 42.187094414347506, 12.750670712801028, 12.750710286043104, 47.13340843643491, 32.422728340024946, 95.30520147674414, 37.376986052862904, 17.608983154181846, 17.655827700767684, 28.517625139523208, 131.25078991922845, 15.682487197467305, 79.35160081179272, 10.813244112769542, 33.28636940730217, 11.735076078480107, 20.602122890620567, 19.461654524109257, 12.726541977150308, 11.750195445748899, 162.58120020446526, 21.670116479082203, 39.044076219980994, 15.59426658482233, 13.751936424398703, 66.98606427227844, 71.89717565705595, 70.38176825823888, 311.34305067598217, 30.297054975395884, 104.86672479514489, 792.6474079975482, 162.58963787572506, 385.9244968744319, 108.82580266737692, 397.95922576528244, 99.9704307035742, 53.722607217686274, 179.64917600602038, 155.28262240351518, 78.2772973156646, 63.32584699987487, 22.18171382056131, 16.399238210744077, 14.471412787184512, 11.579614782406935, 44.40260567025208, 13.51237973676367, 129.6861970936678, 14.488672851105617, 29.859936739144143, 10.609605391392058, 14.497102508463799, 76.26557439760214, 48.243430655228124, 77.48673046860038, 23.210687932209627, 27.12057656464142, 46.26048017192533, 32.735787482768174, 10.652400091592803, 17.433730140581755, 17.452117051651932, 45.57408587956125, 20.355161251400634, 45.487116406361, 311.34305067598217, 15.498958594346053, 12.612588228805919, 17.309884176172634, 45.37840093298184, 25.968368229895226, 56.17978229186682, 397.95922576528244, 70.80971383682319, 206.66090261800395, 116.9271562792787, 52.63887424561072, 378.6392100516014, 52.83877775378815, 45.7514821190211, 60.65084766530675, 52.708476489828854, 39.23252208868099, 86.32875578904968, 31.38510303624297, 30.404175466563757, 15.690149642159732, 14.709265576802206, 12.747483015350381, 48.110608873871016, 170.55411806142075, 15.679841905261494, 41.195865879959214, 32.36986034182699, 48.84533453072646, 22.50184878589144, 10.784760566327751, 10.777084306841147, 29.47002259889073, 15.70507126196903, 31.377440808477775, 11.720070902986496, 45.83456640743073, 13.647431840830517, 98.34301534046435, 17.686919973490873, 91.48344932339096, 49.79678515331555, 59.49988674854218, 10.720333256260744, 11.767883614619699, 12.710109345769117, 53.722607217686274, 82.75542941354402, 34.12530956586622, 116.9271562792787, 378.6392100516014, 206.66090261800395, 792.6474079975482, 179.64917600602038, 155.28262240351518, 131.25078991922845, 51.75424142332442, 40.25736136389553, 37.38314195245051, 34.50892217600509, 27.80240884641108, 20.13782179642696, 18.22167484822443, 15.347454725033073, 15.347455783545728, 13.431308610898546, 17.34679224015029, 52.93903921829839, 13.475587061185008, 59.79826485145359, 13.509316094472997, 17.35216278571743, 98.2618005231595, 50.327082027664986, 14.489020403770116, 10.61283695883966, 11.591594284435212, 52.192498680313754, 83.99653136186181, 13.421336713001159, 29.826205879969088, 378.6392100516014, 12.512615356153008, 10.586384982915455, 25.968368229895226, 19.35879600278457, 97.79488358258656, 66.72793819125596, 792.6474079975482, 98.34301534046435, 375.51453943542646, 259.42357682706097, 59.49988674854218, 49.79678515331555, 71.89717565705595, 52.5634939452274, 45.75009833673769, 15.576488445536084, 15.576489468582238, 13.629804135753156, 13.62980413076609, 13.62980415289057, 10.709777556055771, 17.492024187048703, 18.51389267650559, 385.9244968744319, 16.565601066135333, 15.617150083533614, 13.610764542873305, 11.73584889806787, 17.50758729213157, 11.731886844137493, 13.649974692753501, 34.12530956586622, 23.439792967974814, 15.467799142895423, 14.650844390901359, 24.243497449132608, 12.677576307089113, 31.078548028023995, 37.24365861667518, 30.297806609868452, 17.55618366239947, 13.758416879383493, 14.82293016058091, 63.32584699987487, 27.61720788151414, 375.51453943542646, 792.6474079975482, 93.48164570365228, 187.54713883647122, 79.35160081179272, 98.2618005231595, 91.48344932339096, 170.55411806142075, 397.95922576528244, 162.58963787572506, 259.42357682706097, 36.26404233090246, 17.639985277459353, 16.65977143126437, 14.699344144906423, 12.738917079494744, 33.27533920994897, 29.356050025825798, 59.792836945792104, 24.43506220333715, 63.64463160015832, 33.26517181243668, 14.738257320883116, 20.643166965254068, 108.82580266737692, 37.05193108334407, 23.53835211897419, 78.2772973156646, 20.64599635979732, 16.656642519633237, 13.608431244386699, 162.58963787572506, 30.297806609868452, 12.734531500522746, 12.749891186210277, 23.68585044679847, 13.661774950479447, 37.03656143968973, 19.47177311883491, 14.674437146220304, 12.669492447590384, 25.428030979711366, 116.9271562792787, 31.08878428192447, 375.51453943542646, 378.6392100516014, 179.64917600602038, 397.95922576528244, 792.6474079975482, 36.194105409288234, 49.66636291786596, 16.875132280180363, 13.894111994604511, 11.90676392186007, 11.906762320481015, 28.811649142535877, 29.806550383149116, 39.61631812578651, 24.73942151018514, 28.71013327292224, 10.879055617461326, 17.73280104830596, 23.728740320291713, 104.86672479514489, 13.839431429231045, 27.61720788151414, 13.826933385583384, 15.803355004700142, 24.874973355517895, 25.705374823922806, 17.758967643947802, 21.723427709376143, 11.827243095668855, 19.748472786251906, 17.74571057765121, 93.48164570365228, 33.31344597859569, 21.641842847455646, 97.79488358258656, 12.81126660145009, 375.51453943542646, 259.42357682706097, 60.65084766530675, 100.67166504547959, 378.6392100516014, 51.638062920277214, 792.6474079975482, 52.83877775378815, 66.98606427227844, 187.54713883647122, 40.18503824957933, 50.95987991399611, 56.94868445982106, 29.96367677479862, 19.970092871479256, 17.970752355230513, 15.971411020525613, 14.971741417000384, 53.851226052356935, 12.97240065392274, 43.91350376825361, 10.973058994466196, 38.94992543016027, 25.894610104158787, 21.878650795875576, 15.918745473772658, 13.900768365180504, 10.938571986473136, 10.934147231914569, 19.771998495338607, 133.7605736160359, 32.83321392122175, 20.745356014544274, 18.88202098248399, 65.55828117438966, 22.658327154864793, 64.44261517812288, 13.896009537966727, 11.897757633052121, 10.949821580304544, 66.72793819125596, 375.51453943542646, 22.573925999009376, 187.54713883647122, 259.42357682706097, 397.95922576528244, 52.708476489828854, 129.6861970936678], \"Category\": [\"Default\", \"Default\", \"Default\", \"Default\", \"Default\", \"Default\", \"Default\", \"Default\", \"Default\", \"Default\", \"Default\", \"Default\", \"Default\", \"Default\", \"Default\", \"Default\", \"Default\", \"Default\", \"Default\", \"Default\", \"Default\", \"Default\", \"Default\", \"Default\", \"Default\", \"Default\", \"Default\", \"Default\", \"Default\", \"Default\", \"Topic1\", \"Topic1\", \"Topic1\", \"Topic1\", \"Topic1\", \"Topic1\", \"Topic1\", \"Topic1\", \"Topic1\", \"Topic1\", \"Topic1\", \"Topic1\", \"Topic1\", \"Topic1\", \"Topic1\", \"Topic1\", \"Topic1\", \"Topic1\", \"Topic1\", \"Topic1\", \"Topic1\", \"Topic1\", \"Topic1\", \"Topic1\", \"Topic1\", \"Topic1\", \"Topic1\", \"Topic1\", \"Topic1\", \"Topic1\", \"Topic1\", \"Topic1\", \"Topic1\", \"Topic1\", \"Topic1\", \"Topic1\", \"Topic1\", \"Topic1\", \"Topic1\", \"Topic1\", \"Topic1\", \"Topic1\", \"Topic2\", \"Topic2\", \"Topic2\", \"Topic2\", \"Topic2\", \"Topic2\", \"Topic2\", \"Topic2\", \"Topic2\", \"Topic2\", \"Topic2\", \"Topic2\", \"Topic2\", \"Topic2\", \"Topic2\", \"Topic2\", \"Topic2\", \"Topic2\", \"Topic2\", \"Topic2\", \"Topic2\", \"Topic2\", \"Topic2\", \"Topic2\", \"Topic2\", \"Topic2\", \"Topic2\", \"Topic2\", \"Topic2\", \"Topic2\", \"Topic2\", \"Topic2\", \"Topic2\", \"Topic2\", \"Topic2\", \"Topic2\", \"Topic2\", \"Topic2\", \"Topic2\", \"Topic2\", \"Topic2\", \"Topic2\", \"Topic2\", \"Topic2\", \"Topic2\", \"Topic2\", \"Topic2\", \"Topic3\", \"Topic3\", \"Topic3\", \"Topic3\", \"Topic3\", \"Topic3\", \"Topic3\", \"Topic3\", \"Topic3\", \"Topic3\", \"Topic3\", \"Topic3\", \"Topic3\", \"Topic3\", \"Topic3\", \"Topic3\", \"Topic3\", \"Topic3\", \"Topic3\", \"Topic3\", \"Topic3\", \"Topic3\", \"Topic3\", \"Topic3\", \"Topic3\", \"Topic3\", \"Topic3\", \"Topic3\", \"Topic3\", \"Topic3\", \"Topic3\", \"Topic3\", \"Topic3\", \"Topic3\", \"Topic3\", \"Topic3\", \"Topic3\", \"Topic3\", \"Topic3\", \"Topic3\", \"Topic3\", \"Topic3\", \"Topic3\", \"Topic3\", \"Topic4\", \"Topic4\", \"Topic4\", \"Topic4\", \"Topic4\", \"Topic4\", \"Topic4\", \"Topic4\", \"Topic4\", \"Topic4\", \"Topic4\", \"Topic4\", \"Topic4\", \"Topic4\", \"Topic4\", \"Topic4\", \"Topic4\", \"Topic4\", \"Topic4\", \"Topic4\", \"Topic4\", \"Topic4\", \"Topic4\", \"Topic4\", \"Topic4\", \"Topic4\", \"Topic4\", \"Topic4\", \"Topic4\", \"Topic4\", \"Topic4\", \"Topic4\", \"Topic4\", \"Topic4\", \"Topic4\", \"Topic4\", \"Topic4\", \"Topic4\", \"Topic4\", \"Topic4\", \"Topic4\", \"Topic5\", \"Topic5\", \"Topic5\", \"Topic5\", \"Topic5\", \"Topic5\", \"Topic5\", \"Topic5\", \"Topic5\", \"Topic5\", \"Topic5\", \"Topic5\", \"Topic5\", \"Topic5\", \"Topic5\", \"Topic5\", \"Topic5\", \"Topic5\", \"Topic5\", \"Topic5\", \"Topic5\", \"Topic5\", \"Topic5\", \"Topic5\", \"Topic5\", \"Topic5\", \"Topic5\", \"Topic5\", \"Topic5\", \"Topic5\", \"Topic5\", \"Topic5\", \"Topic5\", \"Topic5\", \"Topic5\", \"Topic5\", \"Topic5\", \"Topic5\", \"Topic5\", \"Topic5\", \"Topic6\", \"Topic6\", \"Topic6\", \"Topic6\", \"Topic6\", \"Topic6\", \"Topic6\", \"Topic6\", \"Topic6\", \"Topic6\", \"Topic6\", \"Topic6\", \"Topic6\", \"Topic6\", \"Topic6\", \"Topic6\", \"Topic6\", \"Topic6\", \"Topic6\", \"Topic6\", \"Topic6\", \"Topic6\", \"Topic6\", \"Topic6\", \"Topic6\", \"Topic6\", \"Topic6\", \"Topic6\", \"Topic6\", \"Topic6\", \"Topic6\", \"Topic6\", \"Topic6\", \"Topic6\", \"Topic6\", \"Topic6\", \"Topic6\", \"Topic6\", \"Topic6\", \"Topic7\", \"Topic7\", \"Topic7\", \"Topic7\", \"Topic7\", \"Topic7\", \"Topic7\", \"Topic7\", \"Topic7\", \"Topic7\", \"Topic7\", \"Topic7\", \"Topic7\", \"Topic7\", \"Topic7\", \"Topic7\", \"Topic7\", \"Topic7\", \"Topic7\", \"Topic7\", \"Topic7\", \"Topic7\", \"Topic7\", \"Topic7\", \"Topic7\", \"Topic7\", \"Topic7\", \"Topic7\", \"Topic7\", \"Topic7\", \"Topic7\", \"Topic7\", \"Topic7\", \"Topic7\", \"Topic7\", \"Topic7\", \"Topic7\", \"Topic7\", \"Topic7\", \"Topic7\", \"Topic7\", \"Topic7\", \"Topic7\", \"Topic8\", \"Topic8\", \"Topic8\", \"Topic8\", \"Topic8\", \"Topic8\", \"Topic8\", \"Topic8\", \"Topic8\", \"Topic8\", \"Topic8\", \"Topic8\", \"Topic8\", \"Topic8\", \"Topic8\", \"Topic8\", \"Topic8\", \"Topic8\", \"Topic8\", \"Topic8\", \"Topic8\", \"Topic8\", \"Topic8\", \"Topic8\", \"Topic8\", \"Topic8\", \"Topic8\", \"Topic8\", \"Topic8\", \"Topic8\", \"Topic8\", \"Topic8\", \"Topic8\", \"Topic8\", \"Topic8\", \"Topic8\", \"Topic8\", \"Topic8\", \"Topic8\", \"Topic9\", \"Topic9\", \"Topic9\", \"Topic9\", \"Topic9\", \"Topic9\", \"Topic9\", \"Topic9\", \"Topic9\", \"Topic9\", \"Topic9\", \"Topic9\", \"Topic9\", \"Topic9\", \"Topic9\", \"Topic9\", \"Topic9\", \"Topic9\", \"Topic9\", \"Topic9\", \"Topic9\", \"Topic9\", \"Topic9\", \"Topic9\", \"Topic9\", \"Topic9\", \"Topic9\", \"Topic9\", \"Topic9\", \"Topic9\", \"Topic9\", \"Topic9\", \"Topic9\", \"Topic9\", \"Topic9\", \"Topic9\", \"Topic9\", \"Topic9\", \"Topic9\", \"Topic9\", \"Topic9\", \"Topic10\", \"Topic10\", \"Topic10\", \"Topic10\", \"Topic10\", \"Topic10\", \"Topic10\", \"Topic10\", \"Topic10\", \"Topic10\", \"Topic10\", \"Topic10\", \"Topic10\", \"Topic10\", \"Topic10\", \"Topic10\", \"Topic10\", \"Topic10\", \"Topic10\", \"Topic10\", \"Topic10\", \"Topic10\", \"Topic10\", \"Topic10\", \"Topic10\", \"Topic10\", \"Topic10\", \"Topic10\", \"Topic10\", \"Topic10\", \"Topic10\", \"Topic10\", \"Topic10\", \"Topic10\", \"Topic10\", \"Topic10\", \"Topic10\"], \"logprob\": [30.0, 29.0, 28.0, 27.0, 26.0, 25.0, 24.0, 23.0, 22.0, 21.0, 20.0, 19.0, 18.0, 17.0, 16.0, 15.0, 14.0, 13.0, 12.0, 11.0, 10.0, 9.0, 8.0, 7.0, 6.0, 5.0, 4.0, 3.0, 2.0, 1.0, -1.9878, -4.6068, -4.6606, -4.7777, -4.7782, -5.15, -3.6859, -5.2559, -3.5924, -3.6192, -4.9193, -3.2264, -4.4412, -4.9896, -4.9466, -2.9202, -5.0828, -4.3884, -4.6344, -3.4268, -4.7243, -5.3933, -5.3421, -4.8643, -4.1192, -5.7482, -5.3631, -4.9842, -5.7482, -5.1131, -3.0667, -1.7962, -4.5347, -4.6868, -4.3614, -4.5092, -3.8707, -4.2678, -4.6511, -4.7552, -4.6962, -4.8995, -4.5616, -4.7892, -4.8577, -4.3294, -3.4833, -4.215, -3.3579, -4.9449, -3.5144, -4.0787, -4.3963, -4.2043, -4.9313, -4.9546, -4.9823, -3.8936, -5.2136, -5.3061, -3.5753, -5.0331, -4.9313, -4.3641, -4.9172, -5.3781, -5.0969, -4.412, -5.346, -5.306, -5.3004, -4.9575, -2.8984, -3.0438, -4.473, -4.5822, -3.338, -2.7644, -3.1512, -4.8596, -4.4856, -4.396, -4.4722, -4.5034, -4.6353, -4.6346, -4.5, -4.5184, -4.5955, -4.5361, -4.7711, -3.792, -4.9926, -4.9928, -3.7058, -4.1451, -3.0883, -4.0313, -4.8281, -4.8428, -4.3651, -2.8391, -4.9753, -3.3756, -5.3939, -4.2967, -5.3939, -4.8568, -4.9296, -5.4092, -5.498, -2.8732, -4.9132, -4.3363, -5.255, -5.3979, -3.8347, -3.7933, -3.8735, -2.915, -4.8605, -4.0521, -2.9149, -3.8923, -3.4427, -4.2099, -3.955, -4.4478, -4.6298, -4.365, -4.5076, -4.6763, -4.8182, -4.4158, -4.724, -4.8562, -5.0954, -3.7589, -4.9596, -2.7339, -4.9298, -4.2506, -5.2982, -5.0108, -3.3742, -3.8342, -3.3667, -4.6128, -4.4759, -3.9448, -4.3034, -5.4264, -4.9345, -4.9652, -4.0059, -4.8164, -4.0473, -2.1764, -5.1898, -5.4105, -5.1519, -4.295, -4.8554, -4.2262, -2.6582, -4.112, -3.3817, -3.8205, -4.3953, -3.6886, -4.5431, -4.6065, -4.7425, -4.8225, -3.7065, -2.9218, -3.9355, -3.9681, -4.659, -4.7272, -4.8795, -3.5561, -2.3169, -4.7534, -3.8033, -4.0479, -3.6527, -4.4351, -5.1884, -5.2808, -4.2778, -4.9333, -4.2412, -5.247, -3.8864, -5.1154, -3.2516, -5.0109, -3.3846, -3.998, -3.8207, -5.5644, -5.5644, -5.5482, -4.3284, -4.0169, -4.7701, -3.9545, -3.2737, -3.7581, -3.2861, -3.9625, -4.1416, -4.6727, -3.4225, -3.6787, -3.7545, -3.8365, -4.0589, -4.394, -4.4988, -4.68, -4.68, -4.8221, -4.68, -3.5651, -4.9878, -3.5095, -5.0052, -4.8221, -3.1293, -3.8543, -5.119, -5.4346, -5.3517, -3.86, -3.403, -5.2447, -4.5365, -2.0872, -5.5091, -5.7655, -4.9025, -5.3029, -3.7668, -4.1322, -2.3732, -4.0519, -3.466, -3.8046, -4.7354, -4.8303, -4.8137, -3.2441, -3.3855, -4.5016, -4.5016, -4.6437, -4.6437, -4.6437, -4.9038, -4.5043, -4.4508, -1.4209, -4.5703, -4.6437, -4.8133, -5.0093, -4.6191, -5.0528, -5.0278, -4.3231, -4.6996, -5.1576, -5.2989, -4.8063, -5.4711, -4.5915, -4.4838, -4.6935, -5.2511, -5.5871, -5.5164, -4.1193, -4.9795, -2.9876, -2.5512, -4.3953, -4.063, -4.49, -4.417, -4.5194, -4.4268, -4.5888, -4.6997, -4.6814, -3.619, -4.3662, -4.4265, -4.5591, -4.7121, -3.7736, -3.9094, -3.1987, -4.156, -3.2055, -3.8682, -4.7121, -4.3788, -2.7777, -3.8584, -4.3715, -3.1851, -4.6461, -4.9095, -5.1134, -2.6366, -4.3297, -5.2294, -5.2452, -4.6327, -5.2004, -4.2675, -4.9252, -5.2452, -5.397, -4.7346, -3.3736, -4.6598, -3.3425, -3.4479, -3.955, -3.6101, -3.3169, -4.7208, -3.2915, -4.4065, -4.6127, -4.7784, -4.7784, -3.9262, -3.8961, -3.6224, -4.1076, -3.9685, -5.0935, -4.635, -4.3463, -2.9015, -4.9839, -4.3041, -4.996, -4.8728, -4.4325, -4.4069, -4.8202, -4.6301, -5.2671, -4.7784, -4.918, -3.2812, -4.3666, -4.879, -3.3708, -5.438, -2.3896, -2.8089, -4.053, -4.048, -3.4915, -4.5313, -3.6181, -4.5983, -4.5742, -4.4467, -4.6935, -3.242, -3.1326, -3.7877, -4.2063, -4.3169, -4.4413, -4.5098, -3.2312, -4.6628, -3.4546, -4.8435, -3.5786, -4.0188, -4.2159, -4.5835, -4.7777, -5.0446, -5.0641, -4.4765, -2.5748, -4.0059, -4.4678, -4.5671, -3.3265, -4.4645, -3.4225, -4.9718, -5.1959, -5.3274, -3.607, -2.831, -4.8237, -3.6559, -4.0993, -3.9974, -4.6238, -4.5195], \"loglift\": [30.0, 29.0, 28.0, 27.0, 26.0, 25.0, 24.0, 23.0, 22.0, 21.0, 20.0, 19.0, 18.0, 17.0, 16.0, 15.0, 14.0, 13.0, 12.0, 11.0, 10.0, 9.0, 8.0, 7.0, 6.0, 5.0, 4.0, 3.0, 2.0, 1.0, 2.1309, 2.0873, 2.0847, 2.0787, 2.0782, 2.0542, 2.0506, 1.9463, 1.9357, 1.9095, 1.8228, 1.8145, 1.781, 1.7535, 1.7431, 1.6803, 1.6584, 1.6581, 1.6471, 1.607, 1.5916, 1.5774, 1.558, 1.5546, 1.5163, 1.4525, 1.4269, 1.3271, 1.2968, 1.267, 1.2479, 1.1741, 0.9388, 1.0147, 0.7682, 0.7206, -0.2113, -0.1805, -0.1963, -0.0055, -0.9788, 0.471, 2.112, 2.1076, 2.1036, 2.0427, 2.0422, 2.0226, 2.019, 2.0161, 2.0118, 1.9791, 1.9771, 1.9659, 1.9651, 1.9388, 1.9137, 1.9091, 1.8937, 1.8775, 1.8766, 1.8676, 1.8469, 1.8103, 1.8046, 1.8025, 1.8007, 1.7911, 1.7619, 1.7282, 1.6657, 1.662, 1.5133, 1.411, 1.5839, 1.5666, 1.2166, 0.895, 0.9361, 1.6333, 1.2159, 1.084, 1.1246, 0.8823, 1.0457, 0.7572, 0.0546, -0.2038, 0.1542, 2.1332, 2.1214, 2.1117, 2.1076, 2.1073, 2.087, 2.0218, 2.0004, 1.9934, 1.9492, 1.9318, 1.9301, 1.9296, 1.9179, 1.8963, 1.8711, 1.8439, 1.7893, 1.7636, 1.7477, 1.6928, 1.6839, 1.6814, 1.6566, 1.6448, 1.6439, 1.6267, 1.6065, 1.5772, 1.5183, 0.9899, 1.3742, 0.941, 0.0555, 0.6622, 0.2474, 0.7461, -0.2956, 0.5931, 1.0322, 0.0898, 0.0929, 0.6092, 0.6792, 2.1307, 2.1245, 2.1174, 2.1011, 2.0936, 2.0825, 2.0467, 2.0426, 1.9986, 1.9858, 1.961, 1.9374, 1.9353, 1.929, 1.8884, 1.8696, 1.8667, 1.8539, 1.8536, 1.8528, 1.8211, 1.8205, 1.8161, 1.7811, 1.7285, 1.7151, 1.7005, 1.6425, 1.5357, 1.5335, 1.391, 1.0012, 1.2737, 0.933, 1.0638, 1.287, 0.0205, 1.1354, 1.2161, 0.7981, 0.8585, 2.2697, 2.2658, 2.264, 2.263, 2.2337, 2.2301, 2.221, 2.2161, 2.1898, 2.14, 2.1241, 2.1206, 2.1044, 2.097, 2.0793, 1.9875, 1.9846, 1.9585, 1.9584, 1.9375, 1.9343, 1.9168, 1.8057, 1.7621, 1.745, 1.7398, 1.7391, 1.7092, 1.616, 1.5551, 1.3335, 1.213, 1.3456, 0.9297, 0.4355, 0.5566, -0.3157, 0.4922, 0.4589, 0.0959, 2.2767, 2.2717, 2.27, 2.268, 2.2617, 2.2492, 2.2443, 2.2348, 2.2348, 2.2261, 2.1123, 2.1115, 2.0571, 2.0453, 2.0372, 1.9699, 1.9288, 1.8729, 1.8533, 1.8491, 1.8438, 1.8308, 1.812, 1.8042, 1.7139, 1.622, 1.6099, 1.5207, 1.4863, 1.3798, 1.296, 1.3129, 0.5972, 1.0054, 0.2514, 0.2827, 0.8244, 0.9075, 0.5568, 2.4396, 2.4371, 2.3984, 2.3984, 2.3898, 2.3898, 2.3898, 2.3708, 2.2797, 2.2764, 2.2692, 2.2681, 2.2537, 2.2216, 2.1738, 2.1641, 2.1306, 2.0043, 1.7927, 1.7917, 1.7494, 1.6623, 1.6513, 1.6348, 1.6178, 1.5445, 1.5412, 1.5292, 1.437, 1.4332, 1.3781, 1.3478, 0.7299, 0.4191, 0.7127, 0.3487, 0.7818, 0.6411, 0.6102, 0.0799, -0.9294, -0.1452, -0.5941, 2.4359, 2.4094, 2.4063, 2.3988, 2.389, 2.3673, 2.3568, 2.3562, 2.2937, 2.2869, 2.2731, 2.2432, 2.2396, 2.1783, 2.175, 2.1156, 2.1004, 1.9721, 1.9234, 1.9217, 1.918, 1.905, 1.872, 1.8551, 1.8482, 1.8307, 1.7664, 1.7516, 1.7145, 1.7096, 1.6753, 1.5106, 1.5491, 0.375, 0.2613, 0.4997, 0.0493, -0.3465, 1.3361, 2.4489, 2.4134, 2.4016, 2.3902, 2.3902, 2.3588, 2.3549, 2.3441, 2.3298, 2.32, 2.1654, 2.1354, 2.1328, 2.0915, 2.0343, 2.0232, 2.0232, 2.0127, 1.9994, 1.9921, 1.9487, 1.9373, 1.9082, 1.8843, 1.8516, 1.8268, 1.7731, 1.6922, 1.6921, 1.6574, 1.3279, 1.2784, 1.4876, 0.9859, 0.2177, 1.1701, -0.6477, 1.0802, 0.8671, -0.035, 1.2587, 2.4727, 2.471, 2.4581, 2.4452, 2.4401, 2.4336, 2.4298, 2.4283, 2.4201, 2.4089, 2.4068, 2.4049, 2.3729, 2.3443, 2.2947, 2.2362, 2.2089, 2.1897, 2.185, 2.1749, 2.1484, 2.1456, 2.1405, 2.1363, 2.0607, 2.0575, 2.0423, 1.9735, 1.925, 1.8381, 0.8864, 1.7053, 0.7558, -0.012, -0.338, 1.0571, 0.2611]}, \"token.table\": {\"Topic\": [1, 2, 3, 5, 9, 6, 7, 3, 4, 5, 6, 7, 7, 2, 10, 3, 6, 7, 8, 4, 5, 10, 3, 1, 7, 8, 5, 1, 3, 9, 6, 8, 1, 10, 1, 1, 4, 6, 8, 5, 1, 2, 4, 6, 7, 10, 2, 4, 8, 1, 2, 5, 10, 2, 4, 5, 6, 1, 2, 9, 3, 7, 8, 3, 7, 3, 7, 9, 5, 10, 1, 3, 4, 10, 6, 2, 9, 5, 7, 6, 2, 4, 9, 4, 8, 9, 2, 6, 10, 7, 6, 10, 6, 7, 1, 3, 4, 7, 1, 2, 4, 2, 6, 2, 6, 8, 3, 9, 3, 8, 1, 2, 5, 6, 7, 8, 9, 10, 2, 5, 1, 4, 9, 10, 7, 10, 5, 2, 3, 3, 4, 8, 10, 1, 3, 6, 3, 2, 7, 10, 2, 8, 10, 3, 6, 8, 2, 3, 5, 2, 3, 9, 2, 3, 6, 7, 9, 10, 3, 5, 9, 2, 5, 6, 3, 7, 9, 1, 5, 7, 6, 3, 4, 1, 6, 8, 8, 9, 1, 3, 10, 3, 6, 9, 5, 6, 2, 8, 9, 2, 7, 5, 10, 9, 10, 1, 5, 7, 7, 8, 2, 8, 10, 5, 8, 5, 7, 9, 8, 10, 10, 1, 2, 3, 4, 5, 7, 8, 9, 10, 5, 8, 10, 3, 6, 9, 5, 7, 8, 9, 3, 5, 10, 9, 10, 4, 6, 8, 9, 10, 6, 10, 1, 3, 5, 3, 5, 6, 3, 6, 3, 4, 9, 4, 6, 5, 6, 8, 3, 1, 4, 6, 8, 10, 1, 2, 5, 7, 6, 8, 7, 9, 1, 4, 5, 7, 9, 2, 7, 9, 4, 1, 4, 5, 1, 7, 10, 1, 2, 5, 2, 3, 4, 7, 8, 4, 6, 9, 1, 4, 5, 7, 10, 2, 9, 8, 9, 3, 8, 9, 10, 1, 9, 10, 9, 2, 3, 6, 10, 1, 2, 6, 7, 8, 9, 10, 2, 3, 6, 7, 8, 9, 10, 9, 10, 4, 5, 6, 10, 6, 5, 1, 5, 1, 3, 6, 1, 10, 3, 6, 9, 7, 9, 1, 2, 4, 5, 6, 8, 9, 3, 10, 10, 5, 6, 7, 1, 3, 4, 6, 1, 2, 2, 5, 7, 8, 3, 7, 9, 3, 5, 7, 1, 10, 5, 10, 1, 2, 1, 2, 5, 10, 4, 6, 6, 10, 2, 4, 7, 6, 7, 1, 4, 5, 8, 4, 10, 1, 3, 4, 7, 8, 9, 5, 7, 7, 10, 5, 9, 8, 1, 3, 6, 7, 8, 10, 4, 5, 7, 2, 3, 8, 2, 3, 4, 9, 2, 3, 5, 6, 9, 4, 6, 1, 3, 4, 5, 2, 5, 1, 2, 4, 5, 9, 10, 4, 5, 5, 10, 1, 5, 7, 1, 2, 7, 3, 4, 1, 6, 1, 3, 4, 5, 7, 3, 4, 5, 7, 9, 10, 2, 4, 1, 2, 5, 6, 9, 10, 9, 1, 10, 1, 2, 4, 5, 10, 2, 3, 7, 8, 1, 2, 3, 5, 8, 1, 4, 10, 1, 10, 5, 3, 7, 2, 3, 1, 2, 4, 8, 10, 4, 5, 3, 5, 2, 6, 2, 3, 4, 5, 6, 9, 3, 4, 10, 4, 6, 7, 8, 7, 8, 2, 7, 2, 7, 1, 4, 5, 9, 1, 6, 10, 6, 9, 10, 6, 7, 9, 10, 2, 4, 9, 1, 4, 9, 10, 1, 4, 8, 1, 4, 5, 6, 8, 9, 3, 5, 4, 3, 9, 1, 3, 6, 8, 10, 4, 6, 7, 8, 6, 8, 2, 4, 1, 3, 6, 8, 5, 6, 7, 9, 8, 9, 10, 1, 4, 7, 9, 4, 6, 8, 9, 3, 9, 6, 8, 2, 8, 2, 6, 7, 10, 4, 7, 9, 2, 4, 3, 9, 5, 6, 8, 10, 8, 1, 2, 1, 4, 10, 6, 8, 1, 2, 4, 5, 8, 10, 5, 6, 5, 8, 9, 2, 5, 7, 10, 2, 9, 5, 7, 8, 2, 6, 8, 4, 7, 8, 9, 2, 5, 7, 2, 10, 3, 6, 10, 3, 7, 10, 3, 5, 1, 7, 4, 7, 2, 3, 3, 9, 6, 10, 2, 4, 2, 8, 3, 4, 6, 9, 2, 3, 4, 6, 8, 6, 3, 5, 7, 7, 9, 3, 7, 2, 8, 7, 9, 10, 1, 4, 1, 3, 3, 2, 9, 3, 4, 5, 6, 7, 2, 3, 4, 5, 5, 8, 4, 2, 9, 9, 7, 3, 10, 1, 4, 7, 2, 5, 9, 2, 3, 9, 4, 5, 10, 2, 3, 7, 3, 10, 4, 6, 7, 6, 8, 4, 4, 8, 3, 4, 6, 7, 10, 1, 4, 7, 1, 2, 3, 5, 6, 2, 9, 1, 3, 5, 6, 8, 4, 6, 7, 8, 4, 5, 6, 9, 10, 2, 7, 10, 7, 3, 5, 7, 9, 4, 6, 9, 5, 4, 5, 6, 7, 1, 2, 8, 9, 4, 6, 1, 2, 6, 9, 3, 4, 2, 4, 5, 7, 9, 1, 4, 5, 7, 9, 2, 3, 8, 1, 3, 9, 3, 4, 2, 1, 3, 5, 6, 7, 8, 9, 10, 1, 3, 5, 6, 9, 6, 1, 2, 3, 1, 2, 1, 2, 3, 4, 5], \"Freq\": [0.09241357189852864, 0.13862035784779295, 0.2310339297463216, 0.09241357189852864, 0.4620678594926432, 0.9897509430069349, 0.9537921360072168, 0.31644033825676554, 0.18614137544515622, 0.39089688843482806, 0.018614137544515623, 0.09307068772257811, 0.9537921348079677, 0.7653463307329488, 0.1275577217888248, 0.05135639132076303, 0.25678195660381514, 0.15406917396228909, 0.5135639132076303, 0.06786557401809666, 0.7465213141990632, 0.16966393504524163, 0.9411240417826112, 0.6225931158440858, 0.2075310386146953, 0.17294253217891276, 0.9685841739693665, 0.30017909304324525, 0.18010745582594717, 0.510304458173517, 0.3674192792841155, 0.5878708468545848, 0.9219126120195636, 0.9113229050388849, 0.9219314373085192, 0.06611074736702645, 0.5288859789362116, 0.19833224210107936, 0.19833224210107936, 0.987729750773854, 0.07588912194743248, 0.32252876827658805, 0.2656119268160137, 0.056916841460574366, 0.03794456097371624, 0.24663964632915558, 0.15785952028254935, 0.3157190405650987, 0.47357856084764804, 0.11961671191638668, 0.134568800905935, 0.014952088989548334, 0.7326523604878684, 0.25828052525998, 0.154968315155988, 0.154968315155988, 0.41324884041596804, 0.3292145181016162, 0.38731119776660733, 0.2711178384366251, 0.3001805432341172, 0.06003610864682344, 0.6003610864682344, 0.108026984651263, 0.8102023848844725, 0.08455055771756316, 0.2536516731526895, 0.5918539040229421, 0.06831611560380181, 0.9108815413840241, 0.007710920841311547, 0.007710920841311547, 0.8713340550682048, 0.10795289177836166, 0.9852524465003731, 0.6799331094192589, 0.25497491603222205, 0.829089992013105, 0.06377615323177731, 0.9854264809495497, 0.7543948477771388, 0.1961426604220561, 0.04526369086662833, 0.6877862487597175, 0.2456379459856134, 0.04912758919712268, 0.10033735953551084, 0.7859759830281683, 0.11706025279142933, 0.9629897693093802, 0.8070656410812416, 0.11529509158303451, 0.11433782497744448, 0.8575336873308336, 0.02561207990594602, 0.5890778378367584, 0.1536724794356761, 0.23050871915351417, 0.7126944269717548, 0.10964529645719305, 0.10964529645719305, 0.2826765370687463, 0.6595785864937413, 0.29278772447204043, 0.14639386223602022, 0.5123785178260707, 0.8635917281962601, 0.12337024688518, 0.23891392815606688, 0.7534977734152878, 0.10022219382678672, 0.2929571819552227, 0.01156409928770616, 0.13491449168990519, 0.04625639715082464, 0.02698289833798104, 0.3045212812429289, 0.08094869501394313, 0.8870996304309666, 0.06823843311007435, 0.06101441234189343, 0.07626801542736678, 0.1677896339402069, 0.7016657419317743, 0.12563804121971495, 0.8166472679281472, 0.9560138266428456, 0.7673241446423841, 0.17051647658719646, 0.18775111550480164, 0.7510044620192066, 0.81420752391104, 0.13570125398517333, 0.23975802936552085, 0.15983868624368056, 0.4795160587310417, 0.9557640493277852, 0.5819747838716213, 0.09699579731193687, 0.24248949327984218, 0.6984151356592494, 0.16117272361367294, 0.1074484824091153, 0.20440153848794332, 0.08942567308847521, 0.7026302885523051, 0.9726905321093959, 0.42488523542060747, 0.509862282504729, 0.216967849366219, 0.07232261645540633, 0.6509035480986569, 0.04278914828564814, 0.12836744485694443, 0.09627558364270833, 0.17115659314259257, 0.5241670664991898, 0.02139457414282407, 0.839408539727196, 0.0419704269863598, 0.11541867421248944, 0.617298298819083, 0.068588699868787, 0.274354799475148, 0.18983310816644677, 0.12655540544429786, 0.6327770272214892, 0.25141159597836943, 0.5793397646458078, 0.1530331453781379, 0.9678878191698633, 0.31714347027237366, 0.6342869405447473, 0.9405476892403515, 0.12277439586752038, 0.8594207710726427, 0.2890292148528135, 0.6503157334188304, 0.551202225474176, 0.275601112737088, 0.068900278184272, 0.034830907627417494, 0.06966181525483499, 0.8707726906854374, 0.6594647333627792, 0.21982157778759306, 0.07805629459672718, 0.3902814729836359, 0.46833776758036305, 0.4732765833675076, 0.4732765833675076, 0.33619780494502166, 0.5883461586537879, 0.9058411541398707, 0.06709934475110153, 0.18656136448295457, 0.5596840934488637, 0.18656136448295457, 0.39606827499161007, 0.561096722904781, 0.31372816768242107, 0.5490242934442369, 0.07843204192060527, 0.08362205667767489, 0.9031182121188888, 0.7004107027923712, 0.12734740050770385, 0.12734740050770385, 0.8235170518464472, 0.14532653856113775, 0.9514227160723565, 0.09548716938758071, 0.28143586766865897, 0.08543588839941432, 0.30656407013907494, 0.03015384296449917, 0.03266666321154077, 0.09046152889349753, 0.017589741729291185, 0.06030768592899834, 0.19374216338567968, 0.629662031003459, 0.14530662253925974, 0.6286075207517869, 0.15715188018794674, 0.15715188018794674, 0.1706499714167739, 0.5119499142503218, 0.2986374499793543, 0.923844761818981, 0.5999044819416951, 0.13843949583269888, 0.23073249305449814, 0.36530275590926564, 0.5479541338638985, 0.03067645146759173, 0.3681174176111008, 0.11248032204783634, 0.46014677201387594, 0.020450967645061154, 0.24101779677796664, 0.7230533903338999, 0.4199005163623112, 0.3053821937180445, 0.22903664528853337, 0.7929393193722248, 0.1699155684369053, 0.9329548541283803, 0.2588082300316787, 0.6038858700739169, 0.2291985544310442, 0.6875956632931326, 0.05729963860776105, 0.5391174322567932, 0.46210065622010843, 0.5714296590796963, 0.23529456550340438, 0.18487430146696057, 0.9684478684119562, 0.44530016597418315, 0.14843338865806105, 0.22265008298709157, 0.14843338865806105, 0.9811640075365938, 0.30289371631943646, 0.5452086893749857, 0.12115748652777458, 0.9892797471603662, 0.06812905681249734, 0.8856777385624655, 0.8324182024546796, 0.12806433883918147, 0.5860636155500762, 0.009933281619492819, 0.08939953457543537, 0.07946625295594255, 0.22846547724833483, 0.14536556186176697, 0.3634139046544174, 0.4360966855853009, 0.9499452448722602, 0.6763698893357657, 0.1560853590774844, 0.10405690605165625, 0.2047663547544806, 0.4777881610937881, 0.2730218063393075, 0.1579731091291474, 0.789865545645737, 0.0789865545645737, 0.2415398251664412, 0.5114961003524637, 0.09945757506853461, 0.09945757506853461, 0.02841645001958132, 0.9674245497577139, 0.08084263405983873, 0.8892689746582261, 0.3466227699119505, 0.5777046165199176, 0.5653895655652869, 0.16961686966958606, 0.16961686966958606, 0.25285792330362683, 0.7164307826936094, 0.40509461600338426, 0.5570050970046534, 0.5672821714907939, 0.1343563037741354, 0.20899869475976618, 0.08957086918275693, 0.06091392712265978, 0.2131987449293092, 0.7005101619105875, 0.9481407158385244, 0.7147064786299921, 0.12429677889217254, 0.12429677889217254, 0.031074194723043135, 0.045271216463572704, 0.0026630127331513354, 0.13048762392441543, 0.17842185312113948, 0.12516159845811278, 0.3195615279781603, 0.20238896771950152, 0.5225352975683066, 0.04265594265863727, 0.005331992832329659, 0.12263583514358216, 0.04798793549096693, 0.07997989248494489, 0.17595576346687875, 0.9024127661479495, 0.06941636662676536, 0.17719558397487145, 0.1328966879811536, 0.22149447996858934, 0.4429889599371787, 0.9687669206004351, 0.9517810339952811, 0.16378227474248436, 0.8189113737124218, 0.7302159197098474, 0.2000591560848897, 0.060017746825466914, 0.03713935868526925, 0.9470536464743657, 0.2860774002297146, 0.019071826681980972, 0.686585760551315, 0.3258837764705476, 0.6517675529410952, 0.3083523705839688, 0.1850114223503813, 0.1541761852919844, 0.06167047411679376, 0.09250571117519064, 0.16959380382118283, 0.03083523705839688, 0.28785242188206517, 0.6476679492346467, 0.9459815406700005, 0.6101094194872864, 0.27454923876927884, 0.10168490324788106, 0.6025067616985512, 0.10954668394519113, 0.10954668394519113, 0.10954668394519113, 0.8140926719157912, 0.16281853438315821, 0.353940106773543, 0.03932667853039366, 0.117980035591181, 0.471920142364724, 0.22540658388949297, 0.22540658388949297, 0.5635164597237324, 0.7561284131155573, 0.05040856087437049, 0.18903210327888934, 0.5778593385089927, 0.38523955900599516, 0.18283922274984718, 0.7313568909993887, 0.09931253401386575, 0.8607086281201698, 0.09593616699158027, 0.7035318912715887, 0.0639574446610535, 0.127914889322107, 0.7331425893644191, 0.24438086312147306, 0.9122033751410745, 0.9833414157180332, 0.11423618609623379, 0.11423618609623379, 0.7425352096255197, 0.9434982686842108, 0.9337262093128692, 0.025656999583865244, 0.32498866139562643, 0.2565699958386524, 0.38485499375797866, 0.07723615037859911, 0.8882157293538898, 0.16503254207580506, 0.46209111781225415, 0.06601301683032201, 0.06601301683032201, 0.03300650841516101, 0.19803905049096607, 0.9029392063376669, 0.09381186559352384, 0.7668810392984622, 0.1704180087329916, 0.9730245644366733, 0.011583625767103253, 0.9637196251928205, 0.19472253078172266, 0.5424413357490846, 0.1808137785830282, 0.08345251319216686, 0.18291321285325332, 0.7316528514130133, 0.7324212039578968, 0.08616720046563492, 0.12925080069845238, 0.5525761660313766, 0.11051523320627532, 0.33154569961882596, 0.17419418532153016, 0.29861860340833746, 0.2239639525562531, 0.29861860340833746, 0.3874986770965523, 0.6089264925802964, 0.09444825735091446, 0.8311446646880473, 0.05666895441054868, 0.8482879115656848, 0.09425421239618721, 0.6289253706982124, 0.16406748800822932, 0.16406748800822932, 0.02734458133470489, 0.18557895095340649, 0.7423158038136259, 0.16946827419262409, 0.28244712365437347, 0.40954832929884155, 0.04236706854815602, 0.05648942473087469, 0.04236706854815602, 0.13332237846523023, 0.8443750636131249, 0.9353446371459166, 0.0623563091430611, 0.08791129042242432, 0.3809489251638387, 0.527467742534546, 0.5176148342410674, 0.3450765561607116, 0.11502551872023718, 0.06756360251195521, 0.9233692343300546, 0.2980329072681134, 0.5960658145362268, 0.06595274084203048, 0.06595274084203048, 0.6815116553676484, 0.17587397557874798, 0.021984246947343498, 0.0189254945422788, 0.35958439630329714, 0.11355296725367278, 0.1703294508805092, 0.24603142904962438, 0.09462747271139399, 0.6322930253302359, 0.23710988449883846, 0.24167598599550902, 0.14500559159730542, 0.3383463803937126, 0.12083799299775451, 0.08458659509842816, 0.07250279579865271, 0.9865832149020468, 0.9225375731706325, 0.060165493902432546, 0.4113017940172054, 0.09193804807443415, 0.2854918334942955, 0.17419840687787522, 0.029033067812979204, 0.12300906909754572, 0.22141632437558229, 0.07380544145852742, 0.5842930782133422, 0.0946288782278094, 0.4675779865374111, 0.12246090123598863, 0.1669921380490754, 0.13916011504089618, 0.717128713337523, 0.2607740775772811, 0.9350949639100116, 0.2023063071213074, 0.7586486517049027, 0.9867065802521684, 0.7210158520542953, 0.2703809445203607, 0.8296384790186545, 0.1382730798364424, 0.5438961264538719, 0.199428579699753, 0.03625974176359146, 0.09064935440897864, 0.10877922529077437, 0.25597114768610685, 0.6825897271629516, 0.6795416217216002, 0.29123212359497147, 0.7709375355568747, 0.19273438388921868, 0.009635673555219737, 0.30512966258195834, 0.6359544546445026, 0.025695129480585967, 0.012847564740292984, 0.009635673555219737, 0.7651847470940694, 0.1275307911823449, 0.06376539559117245, 0.02035378946194474, 0.6920288417061212, 0.16283031569555792, 0.12212273677166845, 0.14141019868795363, 0.8484611921277218, 0.7045441351169193, 0.2561978673152434, 0.569599873884736, 0.3987199117193152, 0.7983353221745326, 0.11404790316779037, 0.04887767278619587, 0.016292557595398625, 0.08826776956349999, 0.22066942390875, 0.66200827172625, 0.0757263708978367, 0.883474327141428, 0.02524212363261223, 0.3746556641439283, 0.07493113282878566, 0.014986226565757132, 0.5245179298014997, 0.8341872391723626, 0.07583520356112387, 0.07583520356112387, 0.6585136298292364, 0.2743806790955152, 0.05134798020566507, 0.9242636437019712, 0.5203271412246875, 0.43360595102057287, 0.9524234456985105, 0.9983576755388378, 0.11620560901234615, 0.15582115753928233, 0.5097200577132456, 0.11092353587542132, 0.10564146273849649, 0.25496024512740073, 0.701140674100352, 0.9756550758264787, 0.739833477961777, 0.18495836949044425, 0.06012294213530171, 0.06012294213530171, 0.030061471067650856, 0.8417211898942241, 0.9678385005271071, 0.20624086976274505, 0.16499269581019604, 0.4537299134780391, 0.12374452185764703, 0.21591317283854697, 0.7556961049349145, 0.13795860233673218, 0.8277516140203932, 0.4632467262262602, 0.32070927200279553, 0.07126872711173234, 0.14253745422346467, 0.09935008743903494, 0.6557105770976306, 0.03974003497561397, 0.19870017487806987, 0.5488508858569258, 0.21109649456035606, 0.21109649456035606, 0.25741228299295965, 0.12870614149647983, 0.4182949598635594, 0.16088267687059976, 0.7743261283209457, 0.025810870944031526, 0.05162174188806305, 0.12905435472015764, 0.3501213291635847, 0.6224379185130394, 0.060104571357818694, 0.9015685703672804, 0.9599271685254075, 0.9651433693086855, 0.11495904874665662, 0.6322747681066114, 0.15327873166220882, 0.09579920728888051, 0.14652041817057435, 0.6593418817675846, 0.14652041817057435, 0.32260231999225913, 0.6452046399845183, 0.9123040625842005, 0.06364912064540934, 0.5823669120549468, 0.24097941188480562, 0.08032647062826853, 0.08032647062826853, 0.9603973299401805, 0.21427654785159092, 0.7713955722657273, 0.5555750756856593, 0.1190518019326413, 0.27778753784282967, 0.7491861481786181, 0.23051881482419018, 0.07867245539540112, 0.06556037949616761, 0.7867245539540112, 0.02622415179846704, 0.03933622769770056, 0.9391781340247767, 0.27607111374894466, 0.6211600059351255, 0.21241928809321858, 0.7222255795169431, 0.04248385761864371, 0.861334677365995, 0.0650063907446034, 0.0650063907446034, 0.9250408093409684, 0.3378574768699903, 0.6194053742616488, 0.31410656920011565, 0.07852664230002891, 0.5496864961002024, 0.5981744147111437, 0.1281802317238165, 0.256360463447633, 0.7021534142136493, 0.06582688258252962, 0.13165376516505925, 0.10971147097088271, 0.15735505852793868, 0.47206517558381605, 0.31471011705587737, 0.3413890007286453, 0.6517426377546864, 0.07193846942337816, 0.07193846942337816, 0.7913231636571597, 0.5817362553979227, 0.218151095774221, 0.14543406384948068, 0.14564568244501577, 0.849599814262592, 0.9349947730322191, 0.9537921363562039, 0.14694251698353084, 0.8081838434094196, 0.7673523149750372, 0.1918380787437593, 0.7714527381703223, 0.21039620131917883, 0.0914133151381084, 0.8684264938120297, 0.6607547604990679, 0.29366878244403016, 0.47701999948958795, 0.47701999948958795, 0.06901943402798903, 0.8972526423638575, 0.7402299220825289, 0.1480459844165058, 0.16019998000780675, 0.2135999733437423, 0.46279994224477505, 0.17799997778645194, 0.9419952987460649, 0.971138873223402, 0.5957347715890572, 0.08510496736986531, 0.17020993473973062, 0.681902246951662, 0.1704755617379155, 0.12073211180296697, 0.8451247826207688, 0.8315582479833714, 0.1279320381512879, 0.33731522349721776, 0.06746304469944356, 0.5397043575955485, 0.13395875667600793, 0.8372422292250495, 0.30829855666008, 0.6679802060968401, 0.9411269626744111, 0.8045944184159385, 0.15472969584921895, 0.2210787642528913, 0.17370474334155744, 0.20528742394911334, 0.04737402091133385, 0.3474094866831149, 0.21857215409951752, 0.15300050786966227, 0.3715726619691798, 0.21857215409951752, 0.8345108771445383, 0.0927234307938376, 0.8880745089890512, 0.8709941609930744, 0.07573862269504994, 0.9356481367825651, 0.9836044431813744, 0.8293873656949272, 0.13377215575724632, 0.323252193399251, 0.1293008773597004, 0.5172035094388016, 0.1841330039399603, 0.23016625492495038, 0.5984322628048709, 0.02370393159050811, 0.9244533320298162, 0.02370393159050811, 0.06178587052523309, 0.8341092520906468, 0.06178587052523309, 0.02332062378234654, 0.1451061035346007, 0.8291777344834326, 0.26480216310734306, 0.688485624079092, 0.30174806799829307, 0.5699685728856646, 0.1341102524436858, 0.8162909675144564, 0.14841653954808298, 0.9467257656409794, 0.7456809240002493, 0.22944028430776903, 0.14286304214519668, 0.05952626756049862, 0.6190731826291856, 0.13095778863309698, 0.0476210140483989, 0.06218463237905928, 0.787672010134751, 0.12436926475811856, 0.6375471927743468, 0.07083857697492743, 0.12235754204760192, 0.1609967658521078, 0.006439870634084311, 0.18383948665451427, 0.7353579466180571, 0.0810010401447552, 0.1080013868596736, 0.135001733574592, 0.1620020802895104, 0.5130065875834496, 0.12866376387466735, 0.22516158678066786, 0.22516158678066786, 0.38599129162400203, 0.7349685924927775, 0.043233446617222206, 0.21616723308611102, 0.643216769373978, 0.3618094327728626, 0.8769408311825541, 0.0649585800875966, 0.048718935065697445, 0.9629898325574597, 0.16110125113523643, 0.21480166818031524, 0.4027531278380911, 0.18795145965777585, 0.7374474488892354, 0.07374474488892355, 0.1474894897778471, 0.941362305448827, 0.1090879742497007, 0.6981630351980845, 0.152723163949581, 0.021817594849940142, 0.9572789702478243, 0.8678443495749184, 0.013997489509272877, 0.1259774055834559, 0.4723047582408076, 0.4723047582408076, 0.5727744384448686, 0.3221856216252386, 0.07159680480560858, 0.9238446375681213, 0.7950487474159023, 0.17036758873197905, 0.018997366762329358, 0.4179420687712459, 0.18997366762329357, 0.17097630086096421, 0.18997366762329357, 0.08243907863566563, 0.2473172359069969, 0.18136597299846438, 0.09892689436279875, 0.37921976172406185, 0.7388585533780659, 0.0568352733367743, 0.1705058200103229, 0.16917801039033226, 0.05639267013011075, 0.7331047116914398, 0.5771351894650543, 0.38475679297670284, 0.9556620658338956, 0.3822632824416392, 0.11985152419787369, 0.07317250951028077, 0.18293127377570195, 0.12994428413032622, 0.06055655959471513, 0.044155824704479776, 0.005046379966226261, 0.007619001764601939, 0.7771381799893978, 0.11428502646902909, 0.06857101588141745, 0.022857005293805816, 0.9122033122264891, 0.0852146158501528, 0.1704292317003056, 0.6817169268012224, 0.8684964815189697, 0.08684964815189698, 0.20930382088850602, 0.34883970148084337, 0.10465191044425301, 0.12209389551829518, 0.19186183581446387], \"Term\": [\"ability\", \"ability\", \"ability\", \"ability\", \"ability\", \"able\", \"activity\", \"actually\", \"actually\", \"actually\", \"actually\", \"actually\", \"amazing\", \"annual\", \"annual\", \"answer\", \"answer\", \"answer\", \"answer\", \"appreciate\", \"appreciate\", \"appreciate\", \"appreciation\", \"area\", \"area\", \"area\", \"ask\", \"associate\", \"associate\", \"associate\", \"atmosphere\", \"atmosphere\", \"attention\", \"available\", \"awesome\", \"bad\", \"bad\", \"bad\", \"bad\", \"balance\", \"base\", \"base\", \"base\", \"base\", \"base\", \"base\", \"basic\", \"basic\", \"basic\", \"benefit\", \"benefit\", \"benefit\", \"benefit\", \"big\", \"big\", \"big\", \"big\", \"bonus\", \"bonus\", \"bonus\", \"boss\", \"boss\", \"boss\", \"break\", \"break\", \"build\", \"build\", \"build\", \"business\", \"business\", \"care\", \"care\", \"care\", \"care\", \"career\", \"ceo\", \"ceo\", \"certain\", \"certain\", \"challenge\", \"change\", \"change\", \"change\", \"clear\", \"clear\", \"clear\", \"client\", \"client\", \"client\", \"collaboration\", \"collaborative\", \"collaborative\", \"colleague\", \"colleague\", \"come\", \"come\", \"come\", \"come\", \"comfortable\", \"comfortable\", \"comfortable\", \"commit\", \"commit\", \"commitment\", \"commitment\", \"commitment\", \"communicate\", \"communicate\", \"communication\", \"communication\", \"company\", \"company\", \"company\", \"company\", \"company\", \"company\", \"company\", \"company\", \"compare\", \"compare\", \"compensation\", \"compensation\", \"compensation\", \"compensation\", \"competitive\", \"competitive\", \"complete\", \"concern\", \"concern\", \"consider\", \"consider\", \"constantly\", \"constantly\", \"contract\", \"contract\", \"contract\", \"corporate\", \"cost\", \"cost\", \"cost\", \"cover\", \"cover\", \"cover\", \"coworker\", \"coworker\", \"coworker\", \"create\", \"crew\", \"crew\", \"cultural\", \"cultural\", \"cultural\", \"culture\", \"culture\", \"culture\", \"culture\", \"culture\", \"culture\", \"customer\", \"customer\", \"customer\", \"cut\", \"cut\", \"cut\", \"daily\", \"daily\", \"daily\", \"day\", \"day\", \"day\", \"deliver\", \"delivery\", \"delivery\", \"dental\", \"department\", \"department\", \"development\", \"development\", \"difference\", \"difference\", \"difference\", \"different\", \"different\", \"different\", \"difficult\", \"difficult\", \"direct\", \"direct\", \"direct\", \"direction\", \"direction\", \"diverse\", \"diverse\", \"diversity\", \"diversity\", \"drama\", \"drama\", \"drama\", \"drive\", \"drive\", \"earn\", \"earn\", \"earn\", \"easy\", \"easy\", \"effective\", \"effective\", \"effective\", \"efficient\", \"efficient\", \"effort\", \"employee\", \"employee\", \"employee\", \"employee\", \"employee\", \"employee\", \"employee\", \"employee\", \"employee\", \"encourage\", \"encourage\", \"encourage\", \"encouraging\", \"encouraging\", \"encouraging\", \"end\", \"end\", \"end\", \"engage\", \"enjoy\", \"enjoy\", \"enjoy\", \"ensure\", \"ensure\", \"environment\", \"environment\", \"environment\", \"environment\", \"environment\", \"equal\", \"equal\", \"especially\", \"especially\", \"especially\", \"ethic\", \"ethic\", \"everyday\", \"excellent\", \"excellent\", \"executive\", \"executive\", \"executive\", \"expect\", \"expect\", \"experience\", \"experience\", \"experience\", \"face\", \"facility\", \"facility\", \"facility\", \"facility\", \"fair\", \"fairly\", \"fairly\", \"fairly\", \"family\", \"fast\", \"fast\", \"favoritism\", \"favoritism\", \"feel\", \"feel\", \"feel\", \"feel\", \"feel\", \"feeling\", \"feeling\", \"feeling\", \"field\", \"fix\", \"fix\", \"fix\", \"flexibility\", \"flexibility\", \"flexibility\", \"flexible\", \"flexible\", \"flexible\", \"focus\", \"focus\", \"focus\", \"focus\", \"focus\", \"follow\", \"food\", \"food\", \"force\", \"force\", \"forward\", \"forward\", \"forward\", \"free\", \"free\", \"friend\", \"friend\", \"friendly\", \"friendly\", \"friendly\", \"friendly\", \"fun\", \"fun\", \"fun\", \"genuinely\", \"goal\", \"goal\", \"goal\", \"goal\", \"good\", \"good\", \"good\", \"good\", \"good\", \"good\", \"good\", \"great\", \"great\", \"great\", \"great\", \"great\", \"great\", \"great\", \"group\", \"group\", \"grow\", \"grow\", \"grow\", \"grow\", \"growth\", \"happen\", \"happy\", \"happy\", \"hard\", \"hard\", \"hard\", \"health\", \"health\", \"help\", \"help\", \"help\", \"helpful\", \"helpful\", \"high\", \"high\", \"high\", \"high\", \"high\", \"high\", \"high\", \"highly\", \"highly\", \"hike\", \"hire\", \"hire\", \"hire\", \"home\", \"home\", \"home\", \"home\", \"hour\", \"hour\", \"human\", \"human\", \"human\", \"human\", \"important\", \"important\", \"important\", \"improve\", \"improve\", \"improve\", \"incentive\", \"incentive\", \"include\", \"include\", \"increase\", \"increase\", \"individual\", \"individual\", \"individual\", \"individual\", \"industry\", \"industry\", \"information\", \"insurance\", \"integrity\", \"integrity\", \"integrity\", \"interact\", \"interaction\", \"interview\", \"interview\", \"interview\", \"interview\", \"interviewer\", \"interviewer\", \"issue\", \"issue\", \"issue\", \"issue\", \"issue\", \"issue\", \"job\", \"job\", \"join\", \"join\", \"just\", \"just\", \"kind\", \"know\", \"know\", \"know\", \"know\", \"knowledgeable\", \"knowledgeable\", \"lack\", \"lack\", \"lack\", \"lead\", \"lead\", \"lead\", \"leader\", \"leader\", \"leader\", \"leader\", \"leadership\", \"leadership\", \"learn\", \"learn\", \"learn\", \"learning\", \"learning\", \"leave\", \"leave\", \"leave\", \"leave\", \"let\", \"let\", \"level\", \"level\", \"level\", \"level\", \"level\", \"level\", \"lie\", \"lie\", \"life\", \"life\", \"like\", \"like\", \"like\", \"line\", \"line\", \"line\", \"listen\", \"listen\", \"live\", \"live\", \"long\", \"long\", \"long\", \"long\", \"long\", \"look\", \"look\", \"look\", \"look\", \"look\", \"look\", \"lose\", \"lose\", \"lot\", \"lot\", \"lot\", \"lot\", \"lot\", \"lot\", \"love\", \"low\", \"low\", \"make\", \"make\", \"make\", \"make\", \"make\", \"management\", \"management\", \"management\", \"management\", \"manager\", \"manager\", \"manager\", \"manager\", \"manager\", \"market\", \"market\", \"match\", \"medical\", \"medical\", \"meet\", \"meeting\", \"meeting\", \"member\", \"member\", \"money\", \"money\", \"money\", \"money\", \"money\", \"month\", \"month\", \"morale\", \"morale\", \"motivation\", \"motivation\", \"need\", \"need\", \"need\", \"need\", \"need\", \"need\", \"negative\", \"negative\", \"negative\", \"new\", \"new\", \"new\", \"new\", \"nice\", \"nice\", \"non\", \"non\", \"number\", \"number\", \"offer\", \"offer\", \"offer\", \"offer\", \"office\", \"office\", \"office\", \"open\", \"open\", \"open\", \"opportunity\", \"opportunity\", \"opportunity\", \"opportunity\", \"option\", \"option\", \"option\", \"overall\", \"overall\", \"package\", \"package\", \"par\", \"par\", \"passion\", \"pay\", \"people\", \"people\", \"people\", \"people\", \"people\", \"person\", \"person\", \"phone\", \"pick\", \"pick\", \"place\", \"place\", \"place\", \"place\", \"plan\", \"point\", \"point\", \"point\", \"point\", \"policy\", \"policy\", \"politic\", \"politic\", \"poor\", \"poor\", \"poor\", \"poor\", \"positive\", \"positive\", \"positive\", \"positive\", \"pretty\", \"pretty\", \"pretty\", \"problem\", \"problem\", \"problem\", \"problem\", \"process\", \"process\", \"process\", \"process\", \"product\", \"product\", \"professional\", \"professional\", \"profit\", \"project\", \"provide\", \"provide\", \"provide\", \"provide\", \"purpose\", \"purpose\", \"purpose\", \"qualified\", \"qualified\", \"quality\", \"quality\", \"question\", \"question\", \"question\", \"question\", \"quick\", \"raise\", \"raise\", \"rate\", \"rate\", \"rate\", \"real\", \"real\", \"really\", \"really\", \"really\", \"really\", \"really\", \"receive\", \"regard\", \"regard\", \"resource\", \"resource\", \"resource\", \"respect\", \"respect\", \"respect\", \"retirement\", \"reward\", \"reward\", \"rid\", \"rid\", \"rid\", \"right\", \"right\", \"right\", \"role\", \"role\", \"role\", \"role\", \"room\", \"room\", \"room\", \"salary\", \"salary\", \"sale\", \"sale\", \"sale\", \"satisfaction\", \"satisfaction\", \"satisfaction\", \"say\", \"say\", \"schedule\", \"security\", \"self\", \"self\", \"senior\", \"senior\", \"service\", \"service\", \"share\", \"share\", \"sharing\", \"sharing\", \"shift\", \"shift\", \"simple\", \"simple\", \"situation\", \"situation\", \"skill\", \"skill\", \"skill\", \"skill\", \"slow\", \"smart\", \"solution\", \"solution\", \"solution\", \"solve\", \"solve\", \"speak\", \"speak\", \"spend\", \"spend\", \"spirit\", \"spirit\", \"spirit\", \"standard\", \"standard\", \"start\", \"start\", \"stay\", \"stock\", \"stock\", \"stop\", \"stop\", \"stop\", \"stop\", \"stop\", \"store\", \"store\", \"store\", \"store\", \"straight\", \"straight\", \"strategy\", \"strong\", \"strong\", \"successful\", \"support\", \"supportive\", \"supportive\", \"sure\", \"sure\", \"sure\", \"talent\", \"talent\", \"talent\", \"talk\", \"talk\", \"talk\", \"task\", \"task\", \"task\", \"team\", \"team\", \"team\", \"teamwork\", \"teamwork\", \"technical\", \"technical\", \"technical\", \"technology\", \"technology\", \"term\", \"test\", \"test\", \"thing\", \"thing\", \"thing\", \"thing\", \"thing\", \"think\", \"think\", \"think\", \"time\", \"time\", \"time\", \"time\", \"time\", \"total\", \"total\", \"train\", \"train\", \"train\", \"train\", \"train\", \"training\", \"training\", \"training\", \"training\", \"transparency\", \"transparency\", \"transparency\", \"transparent\", \"transparent\", \"treat\", \"treat\", \"treat\", \"trust\", \"try\", \"try\", \"try\", \"try\", \"understanding\", \"understanding\", \"understanding\", \"update\", \"use\", \"use\", \"use\", \"use\", \"vacation\", \"value\", \"value\", \"value\", \"view\", \"view\", \"wage\", \"wage\", \"wage\", \"wait\", \"walk\", \"walk\", \"want\", \"want\", \"want\", \"want\", \"want\", \"way\", \"way\", \"way\", \"way\", \"way\", \"week\", \"week\", \"week\", \"willing\", \"willing\", \"willing\", \"willingness\", \"willingness\", \"woman\", \"work\", \"work\", \"work\", \"work\", \"work\", \"work\", \"work\", \"work\", \"worker\", \"worker\", \"worker\", \"worker\", \"worker\", \"working\", \"workplace\", \"workplace\", \"workplace\", \"worth\", \"worth\", \"year\", \"year\", \"year\", \"year\", \"year\"]}, \"R\": 30, \"lambda.step\": 0.01, \"plot.opts\": {\"xlab\": \"PC1\", \"ylab\": \"PC2\"}, \"topic.order\": [5, 6, 2, 1, 9, 3, 8, 7, 10, 4]};\n",
              "\n",
              "function LDAvis_load_lib(url, callback){\n",
              "  var s = document.createElement('script');\n",
              "  s.src = url;\n",
              "  s.async = true;\n",
              "  s.onreadystatechange = s.onload = callback;\n",
              "  s.onerror = function(){console.warn(\"failed to load library \" + url);};\n",
              "  document.getElementsByTagName(\"head\")[0].appendChild(s);\n",
              "}\n",
              "\n",
              "if(typeof(LDAvis) !== \"undefined\"){\n",
              "   // already loaded: just create the visualization\n",
              "   !function(LDAvis){\n",
              "       new LDAvis(\"#\" + \"ldavis_el5691406729129292328305834827\", ldavis_el5691406729129292328305834827_data);\n",
              "   }(LDAvis);\n",
              "}else if(typeof define === \"function\" && define.amd){\n",
              "   // require.js is available: use it to load d3/LDAvis\n",
              "   require.config({paths: {d3: \"https://d3js.org/d3.v5\"}});\n",
              "   require([\"d3\"], function(d3){\n",
              "      window.d3 = d3;\n",
              "      LDAvis_load_lib(\"https://cdn.jsdelivr.net/gh/bmabey/pyLDAvis@3.3.1/pyLDAvis/js/ldavis.v3.0.0.js\", function(){\n",
              "        new LDAvis(\"#\" + \"ldavis_el5691406729129292328305834827\", ldavis_el5691406729129292328305834827_data);\n",
              "      });\n",
              "    });\n",
              "}else{\n",
              "    // require.js not available: dynamically load d3 & LDAvis\n",
              "    LDAvis_load_lib(\"https://d3js.org/d3.v5.js\", function(){\n",
              "         LDAvis_load_lib(\"https://cdn.jsdelivr.net/gh/bmabey/pyLDAvis@3.3.1/pyLDAvis/js/ldavis.v3.0.0.js\", function(){\n",
              "                 new LDAvis(\"#\" + \"ldavis_el5691406729129292328305834827\", ldavis_el5691406729129292328305834827_data);\n",
              "            })\n",
              "         });\n",
              "}\n",
              "</script>"
            ],
            "text/plain": [
              "PreparedData(topic_coordinates=               x          y  topics  cluster       Freq\n",
              "topic                                                  \n",
              "4      32.420952   8.115230       1        1  11.831714\n",
              "5       0.648955  71.707100       2        1  11.469259\n",
              "1      71.019684   9.971006       3        1  11.315988\n",
              "0       3.785981  33.185135       4        1  11.302987\n",
              "8     -42.666500  -9.222070       5        1  10.102929\n",
              "2      -3.621689 -43.526516       6        1  10.087567\n",
              "7      -3.632402  -4.171708       7        1   8.573822\n",
              "6     -36.584400  35.804413       8        1   8.539540\n",
              "9      44.391380  50.615383       9        1   8.485911\n",
              "3      40.235809 -31.591665      10        1   8.290284, topic_info=         Term        Freq       Total Category  logprob  loglift\n",
              "352      team  385.000000  385.000000  Default  30.0000  30.0000\n",
              "254       pay  251.000000  251.000000  Default  29.0000  29.0000\n",
              "236      need  311.000000  311.000000  Default  28.0000  28.0000\n",
              "388      work  792.000000  792.000000  Default  27.0000  27.0000\n",
              "255    people  378.000000  378.000000  Default  26.0000  26.0000\n",
              "..        ...         ...         ...      ...      ...      ...\n",
              "148     great   33.107679  187.547139  Topic10  -3.6559   0.7558\n",
              "55    company   21.250537  259.423577  Topic10  -4.0993  -0.0120\n",
              "98   employee   23.529310  397.959226  Topic10  -3.9974  -0.3380\n",
              "23       base   12.576517   52.708476  Topic10  -4.6238   1.0571\n",
              "36       care   13.959580  129.686197  Topic10  -4.5195   0.2611\n",
              "\n",
              "[443 rows x 6 columns], token_table=      Topic      Freq     Term\n",
              "term                          \n",
              "0         1  0.092414  ability\n",
              "0         2  0.138620  ability\n",
              "0         3  0.231034  ability\n",
              "0         5  0.092414  ability\n",
              "0         9  0.462068  ability\n",
              "...     ...       ...      ...\n",
              "395       1  0.209304     year\n",
              "395       2  0.348840     year\n",
              "395       3  0.104652     year\n",
              "395       4  0.122094     year\n",
              "395       5  0.191862     year\n",
              "\n",
              "[867 rows x 3 columns], R=30, lambda_step=0.01, plot_opts={'xlab': 'PC1', 'ylab': 'PC2'}, topic_order=[5, 6, 2, 1, 9, 3, 8, 7, 10, 4])"
            ]
          },
          "metadata": {
            "tags": []
          },
          "execution_count": 28
        }
      ]
    },
    {
      "cell_type": "markdown",
      "metadata": {
        "id": "BkSFzIDngOFc"
      },
      "source": [
        "# Topic Keywords"
      ]
    },
    {
      "cell_type": "code",
      "metadata": {
        "colab": {
          "base_uri": "https://localhost:8080/",
          "height": 253
        },
        "id": "UK7TEqtdgL0t",
        "outputId": "ed16509a-1a5b-49e9-a143-0563b7ed04e3"
      },
      "source": [
        "# Topic-Keyword Matrix\n",
        "df_topic_keywords = pd.DataFrame(best_lda_model.components_)\n",
        "\n",
        "# Assign Column and Index\n",
        "df_topic_keywords.columns = vectorizer.get_feature_names()\n",
        "df_topic_keywords.index = topicnames\n",
        "\n",
        "# View\n",
        "df_topic_keywords.head()"
      ],
      "execution_count": 29,
      "outputs": [
        {
          "output_type": "execute_result",
          "data": {
            "text/html": [
              "<div>\n",
              "<style scoped>\n",
              "    .dataframe tbody tr th:only-of-type {\n",
              "        vertical-align: middle;\n",
              "    }\n",
              "\n",
              "    .dataframe tbody tr th {\n",
              "        vertical-align: top;\n",
              "    }\n",
              "\n",
              "    .dataframe thead th {\n",
              "        text-align: right;\n",
              "    }\n",
              "</style>\n",
              "<table border=\"1\" class=\"dataframe\">\n",
              "  <thead>\n",
              "    <tr style=\"text-align: right;\">\n",
              "      <th></th>\n",
              "      <th>ability</th>\n",
              "      <th>able</th>\n",
              "      <th>action</th>\n",
              "      <th>activity</th>\n",
              "      <th>actually</th>\n",
              "      <th>advancement</th>\n",
              "      <th>allow</th>\n",
              "      <th>amazing</th>\n",
              "      <th>annual</th>\n",
              "      <th>answer</th>\n",
              "      <th>appreciate</th>\n",
              "      <th>appreciation</th>\n",
              "      <th>approach</th>\n",
              "      <th>area</th>\n",
              "      <th>ask</th>\n",
              "      <th>associate</th>\n",
              "      <th>atmosphere</th>\n",
              "      <th>attention</th>\n",
              "      <th>attitude</th>\n",
              "      <th>available</th>\n",
              "      <th>awesome</th>\n",
              "      <th>bad</th>\n",
              "      <th>balance</th>\n",
              "      <th>base</th>\n",
              "      <th>basic</th>\n",
              "      <th>basis</th>\n",
              "      <th>believe</th>\n",
              "      <th>benefit</th>\n",
              "      <th>better</th>\n",
              "      <th>big</th>\n",
              "      <th>bonus</th>\n",
              "      <th>boss</th>\n",
              "      <th>break</th>\n",
              "      <th>bring</th>\n",
              "      <th>build</th>\n",
              "      <th>business</th>\n",
              "      <th>care</th>\n",
              "      <th>career</th>\n",
              "      <th>ceo</th>\n",
              "      <th>certain</th>\n",
              "      <th>...</th>\n",
              "      <th>technology</th>\n",
              "      <th>tell</th>\n",
              "      <th>term</th>\n",
              "      <th>test</th>\n",
              "      <th>thing</th>\n",
              "      <th>think</th>\n",
              "      <th>time</th>\n",
              "      <th>total</th>\n",
              "      <th>train</th>\n",
              "      <th>training</th>\n",
              "      <th>transparency</th>\n",
              "      <th>transparent</th>\n",
              "      <th>treat</th>\n",
              "      <th>trust</th>\n",
              "      <th>try</th>\n",
              "      <th>understand</th>\n",
              "      <th>understanding</th>\n",
              "      <th>update</th>\n",
              "      <th>use</th>\n",
              "      <th>vacation</th>\n",
              "      <th>value</th>\n",
              "      <th>view</th>\n",
              "      <th>vision</th>\n",
              "      <th>wage</th>\n",
              "      <th>wait</th>\n",
              "      <th>walk</th>\n",
              "      <th>want</th>\n",
              "      <th>way</th>\n",
              "      <th>week</th>\n",
              "      <th>willing</th>\n",
              "      <th>willingness</th>\n",
              "      <th>woman</th>\n",
              "      <th>work</th>\n",
              "      <th>worker</th>\n",
              "      <th>working</th>\n",
              "      <th>workplace</th>\n",
              "      <th>world</th>\n",
              "      <th>worth</th>\n",
              "      <th>wrong</th>\n",
              "      <th>year</th>\n",
              "    </tr>\n",
              "  </thead>\n",
              "  <tbody>\n",
              "    <tr>\n",
              "      <th>Topic0</th>\n",
              "      <td>0.100013</td>\n",
              "      <td>0.100003</td>\n",
              "      <td>0.100014</td>\n",
              "      <td>0.100002</td>\n",
              "      <td>10.148370</td>\n",
              "      <td>2.418462</td>\n",
              "      <td>0.100009</td>\n",
              "      <td>0.100002</td>\n",
              "      <td>0.100003</td>\n",
              "      <td>0.100015</td>\n",
              "      <td>2.470072</td>\n",
              "      <td>0.100000</td>\n",
              "      <td>5.100032</td>\n",
              "      <td>0.100003</td>\n",
              "      <td>0.100002</td>\n",
              "      <td>0.100011</td>\n",
              "      <td>0.100000</td>\n",
              "      <td>0.100010</td>\n",
              "      <td>0.100038</td>\n",
              "      <td>0.100000</td>\n",
              "      <td>0.100000</td>\n",
              "      <td>24.713132</td>\n",
              "      <td>0.100001</td>\n",
              "      <td>14.583110</td>\n",
              "      <td>3.878762</td>\n",
              "      <td>0.100000</td>\n",
              "      <td>0.100008</td>\n",
              "      <td>0.100004</td>\n",
              "      <td>1.569309</td>\n",
              "      <td>3.099933</td>\n",
              "      <td>0.100005</td>\n",
              "      <td>0.100000</td>\n",
              "      <td>0.100004</td>\n",
              "      <td>0.100015</td>\n",
              "      <td>0.100000</td>\n",
              "      <td>0.100013</td>\n",
              "      <td>117.739042</td>\n",
              "      <td>0.100007</td>\n",
              "      <td>0.100020</td>\n",
              "      <td>0.100003</td>\n",
              "      <td>...</td>\n",
              "      <td>0.100006</td>\n",
              "      <td>12.666979</td>\n",
              "      <td>21.901952</td>\n",
              "      <td>13.037780</td>\n",
              "      <td>5.430430</td>\n",
              "      <td>39.180079</td>\n",
              "      <td>0.100039</td>\n",
              "      <td>0.100000</td>\n",
              "      <td>0.100010</td>\n",
              "      <td>4.404163</td>\n",
              "      <td>35.079168</td>\n",
              "      <td>0.100006</td>\n",
              "      <td>0.124767</td>\n",
              "      <td>0.100008</td>\n",
              "      <td>0.100028</td>\n",
              "      <td>0.100014</td>\n",
              "      <td>20.625567</td>\n",
              "      <td>0.100001</td>\n",
              "      <td>4.866109</td>\n",
              "      <td>0.104440</td>\n",
              "      <td>0.100010</td>\n",
              "      <td>5.099978</td>\n",
              "      <td>6.153049</td>\n",
              "      <td>0.100001</td>\n",
              "      <td>0.100007</td>\n",
              "      <td>2.797292</td>\n",
              "      <td>22.356702</td>\n",
              "      <td>15.798325</td>\n",
              "      <td>0.100001</td>\n",
              "      <td>0.100001</td>\n",
              "      <td>5.892661</td>\n",
              "      <td>0.100004</td>\n",
              "      <td>0.100013</td>\n",
              "      <td>0.100008</td>\n",
              "      <td>0.100009</td>\n",
              "      <td>0.100007</td>\n",
              "      <td>6.26946</td>\n",
              "      <td>0.100000</td>\n",
              "      <td>0.100007</td>\n",
              "      <td>7.518200</td>\n",
              "    </tr>\n",
              "    <tr>\n",
              "      <th>Topic1</th>\n",
              "      <td>4.787660</td>\n",
              "      <td>0.100006</td>\n",
              "      <td>6.099944</td>\n",
              "      <td>0.100002</td>\n",
              "      <td>17.392305</td>\n",
              "      <td>0.100000</td>\n",
              "      <td>2.549026</td>\n",
              "      <td>0.100000</td>\n",
              "      <td>0.100000</td>\n",
              "      <td>1.389002</td>\n",
              "      <td>0.100009</td>\n",
              "      <td>12.096774</td>\n",
              "      <td>0.100000</td>\n",
              "      <td>0.100011</td>\n",
              "      <td>0.100002</td>\n",
              "      <td>6.569095</td>\n",
              "      <td>0.100009</td>\n",
              "      <td>0.100002</td>\n",
              "      <td>10.837115</td>\n",
              "      <td>0.100011</td>\n",
              "      <td>0.100000</td>\n",
              "      <td>0.100013</td>\n",
              "      <td>0.100003</td>\n",
              "      <td>0.100009</td>\n",
              "      <td>0.100005</td>\n",
              "      <td>7.099937</td>\n",
              "      <td>0.100011</td>\n",
              "      <td>0.100004</td>\n",
              "      <td>9.078949</td>\n",
              "      <td>0.100001</td>\n",
              "      <td>0.100000</td>\n",
              "      <td>5.099941</td>\n",
              "      <td>2.313473</td>\n",
              "      <td>0.100014</td>\n",
              "      <td>1.118490</td>\n",
              "      <td>0.100019</td>\n",
              "      <td>0.665867</td>\n",
              "      <td>0.100008</td>\n",
              "      <td>0.100002</td>\n",
              "      <td>0.100006</td>\n",
              "      <td>...</td>\n",
              "      <td>0.100003</td>\n",
              "      <td>6.396251</td>\n",
              "      <td>0.100009</td>\n",
              "      <td>0.100000</td>\n",
              "      <td>12.593477</td>\n",
              "      <td>0.100004</td>\n",
              "      <td>19.651406</td>\n",
              "      <td>0.100002</td>\n",
              "      <td>4.204198</td>\n",
              "      <td>0.100000</td>\n",
              "      <td>0.100003</td>\n",
              "      <td>0.100001</td>\n",
              "      <td>0.100011</td>\n",
              "      <td>0.100004</td>\n",
              "      <td>6.438339</td>\n",
              "      <td>10.235655</td>\n",
              "      <td>0.100041</td>\n",
              "      <td>0.100005</td>\n",
              "      <td>0.100001</td>\n",
              "      <td>0.100000</td>\n",
              "      <td>0.100005</td>\n",
              "      <td>0.100012</td>\n",
              "      <td>0.448008</td>\n",
              "      <td>0.100004</td>\n",
              "      <td>0.100013</td>\n",
              "      <td>14.262987</td>\n",
              "      <td>0.100005</td>\n",
              "      <td>0.100019</td>\n",
              "      <td>1.099884</td>\n",
              "      <td>1.131799</td>\n",
              "      <td>9.307314</td>\n",
              "      <td>0.100000</td>\n",
              "      <td>96.628656</td>\n",
              "      <td>104.243969</td>\n",
              "      <td>0.100000</td>\n",
              "      <td>8.100049</td>\n",
              "      <td>0.10000</td>\n",
              "      <td>0.100038</td>\n",
              "      <td>7.036618</td>\n",
              "      <td>6.235242</td>\n",
              "    </tr>\n",
              "    <tr>\n",
              "      <th>Topic2</th>\n",
              "      <td>0.100042</td>\n",
              "      <td>38.099955</td>\n",
              "      <td>0.100041</td>\n",
              "      <td>0.100005</td>\n",
              "      <td>1.012246</td>\n",
              "      <td>2.781585</td>\n",
              "      <td>3.790090</td>\n",
              "      <td>0.100001</td>\n",
              "      <td>0.100002</td>\n",
              "      <td>4.992357</td>\n",
              "      <td>0.100009</td>\n",
              "      <td>0.100000</td>\n",
              "      <td>0.100009</td>\n",
              "      <td>0.100015</td>\n",
              "      <td>0.100003</td>\n",
              "      <td>0.100006</td>\n",
              "      <td>5.099935</td>\n",
              "      <td>0.100001</td>\n",
              "      <td>0.100009</td>\n",
              "      <td>0.100009</td>\n",
              "      <td>0.100002</td>\n",
              "      <td>9.395922</td>\n",
              "      <td>0.100005</td>\n",
              "      <td>2.730949</td>\n",
              "      <td>0.100005</td>\n",
              "      <td>0.100000</td>\n",
              "      <td>0.100009</td>\n",
              "      <td>0.100007</td>\n",
              "      <td>11.336283</td>\n",
              "      <td>8.099999</td>\n",
              "      <td>0.100004</td>\n",
              "      <td>0.100003</td>\n",
              "      <td>0.100000</td>\n",
              "      <td>8.464212</td>\n",
              "      <td>0.117551</td>\n",
              "      <td>0.100014</td>\n",
              "      <td>0.100006</td>\n",
              "      <td>35.099934</td>\n",
              "      <td>0.100000</td>\n",
              "      <td>0.100004</td>\n",
              "      <td>...</td>\n",
              "      <td>11.100047</td>\n",
              "      <td>0.100020</td>\n",
              "      <td>0.298022</td>\n",
              "      <td>0.100003</td>\n",
              "      <td>54.150411</td>\n",
              "      <td>0.100015</td>\n",
              "      <td>0.759670</td>\n",
              "      <td>0.100000</td>\n",
              "      <td>6.540445</td>\n",
              "      <td>7.146674</td>\n",
              "      <td>9.945131</td>\n",
              "      <td>0.100001</td>\n",
              "      <td>0.100018</td>\n",
              "      <td>0.100007</td>\n",
              "      <td>0.100002</td>\n",
              "      <td>0.100005</td>\n",
              "      <td>2.193090</td>\n",
              "      <td>0.100003</td>\n",
              "      <td>7.808035</td>\n",
              "      <td>0.100002</td>\n",
              "      <td>0.100006</td>\n",
              "      <td>5.100001</td>\n",
              "      <td>0.100006</td>\n",
              "      <td>2.146602</td>\n",
              "      <td>0.100004</td>\n",
              "      <td>0.100004</td>\n",
              "      <td>0.100006</td>\n",
              "      <td>0.100004</td>\n",
              "      <td>0.100003</td>\n",
              "      <td>0.100003</td>\n",
              "      <td>0.100001</td>\n",
              "      <td>0.100005</td>\n",
              "      <td>151.647519</td>\n",
              "      <td>9.850685</td>\n",
              "      <td>15.099946</td>\n",
              "      <td>0.100000</td>\n",
              "      <td>4.33376</td>\n",
              "      <td>0.100001</td>\n",
              "      <td>5.150834</td>\n",
              "      <td>0.100002</td>\n",
              "    </tr>\n",
              "    <tr>\n",
              "      <th>Topic3</th>\n",
              "      <td>0.100000</td>\n",
              "      <td>0.100004</td>\n",
              "      <td>0.100002</td>\n",
              "      <td>0.100004</td>\n",
              "      <td>0.100002</td>\n",
              "      <td>3.099966</td>\n",
              "      <td>1.491475</td>\n",
              "      <td>0.100008</td>\n",
              "      <td>2.402445</td>\n",
              "      <td>0.100003</td>\n",
              "      <td>4.744531</td>\n",
              "      <td>0.100007</td>\n",
              "      <td>2.099955</td>\n",
              "      <td>0.100010</td>\n",
              "      <td>0.100002</td>\n",
              "      <td>0.100004</td>\n",
              "      <td>0.100007</td>\n",
              "      <td>0.107594</td>\n",
              "      <td>2.190402</td>\n",
              "      <td>10.099967</td>\n",
              "      <td>0.100002</td>\n",
              "      <td>0.100027</td>\n",
              "      <td>0.100001</td>\n",
              "      <td>12.580662</td>\n",
              "      <td>0.100013</td>\n",
              "      <td>0.100000</td>\n",
              "      <td>4.789617</td>\n",
              "      <td>97.628419</td>\n",
              "      <td>4.199601</td>\n",
              "      <td>0.100005</td>\n",
              "      <td>0.100039</td>\n",
              "      <td>0.100000</td>\n",
              "      <td>0.100000</td>\n",
              "      <td>7.301850</td>\n",
              "      <td>0.100003</td>\n",
              "      <td>40.502643</td>\n",
              "      <td>13.964181</td>\n",
              "      <td>0.100010</td>\n",
              "      <td>0.100000</td>\n",
              "      <td>0.100015</td>\n",
              "      <td>...</td>\n",
              "      <td>0.100001</td>\n",
              "      <td>0.100003</td>\n",
              "      <td>0.100000</td>\n",
              "      <td>0.325284</td>\n",
              "      <td>3.522495</td>\n",
              "      <td>0.100008</td>\n",
              "      <td>0.100007</td>\n",
              "      <td>0.100024</td>\n",
              "      <td>0.100000</td>\n",
              "      <td>0.100009</td>\n",
              "      <td>0.100008</td>\n",
              "      <td>8.512994</td>\n",
              "      <td>2.760234</td>\n",
              "      <td>0.100003</td>\n",
              "      <td>0.100006</td>\n",
              "      <td>4.373522</td>\n",
              "      <td>0.100002</td>\n",
              "      <td>0.100000</td>\n",
              "      <td>0.100008</td>\n",
              "      <td>0.100020</td>\n",
              "      <td>0.100001</td>\n",
              "      <td>0.100000</td>\n",
              "      <td>0.100025</td>\n",
              "      <td>0.100007</td>\n",
              "      <td>0.100006</td>\n",
              "      <td>0.100000</td>\n",
              "      <td>0.100011</td>\n",
              "      <td>0.100007</td>\n",
              "      <td>0.100004</td>\n",
              "      <td>0.100004</td>\n",
              "      <td>0.100002</td>\n",
              "      <td>0.100001</td>\n",
              "      <td>3.963511</td>\n",
              "      <td>0.100004</td>\n",
              "      <td>0.100023</td>\n",
              "      <td>0.100006</td>\n",
              "      <td>0.10000</td>\n",
              "      <td>0.100002</td>\n",
              "      <td>0.100003</td>\n",
              "      <td>0.100006</td>\n",
              "    </tr>\n",
              "    <tr>\n",
              "      <th>Topic4</th>\n",
              "      <td>2.099836</td>\n",
              "      <td>0.100003</td>\n",
              "      <td>0.100024</td>\n",
              "      <td>0.100001</td>\n",
              "      <td>0.100005</td>\n",
              "      <td>0.100008</td>\n",
              "      <td>0.100013</td>\n",
              "      <td>0.100003</td>\n",
              "      <td>0.100005</td>\n",
              "      <td>0.100006</td>\n",
              "      <td>0.100007</td>\n",
              "      <td>0.100019</td>\n",
              "      <td>0.100000</td>\n",
              "      <td>18.580605</td>\n",
              "      <td>0.100003</td>\n",
              "      <td>9.975956</td>\n",
              "      <td>0.100000</td>\n",
              "      <td>16.092380</td>\n",
              "      <td>0.100003</td>\n",
              "      <td>0.100002</td>\n",
              "      <td>16.099962</td>\n",
              "      <td>3.436543</td>\n",
              "      <td>0.100004</td>\n",
              "      <td>3.829261</td>\n",
              "      <td>0.100004</td>\n",
              "      <td>0.100028</td>\n",
              "      <td>0.100022</td>\n",
              "      <td>16.465893</td>\n",
              "      <td>9.408118</td>\n",
              "      <td>0.100156</td>\n",
              "      <td>17.632401</td>\n",
              "      <td>0.100007</td>\n",
              "      <td>0.100004</td>\n",
              "      <td>4.810899</td>\n",
              "      <td>0.100000</td>\n",
              "      <td>0.100003</td>\n",
              "      <td>0.788608</td>\n",
              "      <td>0.100010</td>\n",
              "      <td>0.100000</td>\n",
              "      <td>0.100000</td>\n",
              "      <td>...</td>\n",
              "      <td>0.100011</td>\n",
              "      <td>5.236671</td>\n",
              "      <td>0.100005</td>\n",
              "      <td>0.100000</td>\n",
              "      <td>0.100006</td>\n",
              "      <td>3.473962</td>\n",
              "      <td>103.162236</td>\n",
              "      <td>0.100001</td>\n",
              "      <td>3.076738</td>\n",
              "      <td>0.100008</td>\n",
              "      <td>0.100005</td>\n",
              "      <td>0.100003</td>\n",
              "      <td>0.100007</td>\n",
              "      <td>0.100000</td>\n",
              "      <td>0.100013</td>\n",
              "      <td>0.100005</td>\n",
              "      <td>0.100010</td>\n",
              "      <td>0.100000</td>\n",
              "      <td>0.100008</td>\n",
              "      <td>11.095521</td>\n",
              "      <td>0.100041</td>\n",
              "      <td>0.100000</td>\n",
              "      <td>6.494786</td>\n",
              "      <td>16.983055</td>\n",
              "      <td>0.100004</td>\n",
              "      <td>0.100004</td>\n",
              "      <td>0.100016</td>\n",
              "      <td>5.689284</td>\n",
              "      <td>0.100018</td>\n",
              "      <td>3.356578</td>\n",
              "      <td>0.100009</td>\n",
              "      <td>0.100004</td>\n",
              "      <td>317.429593</td>\n",
              "      <td>1.392705</td>\n",
              "      <td>0.100007</td>\n",
              "      <td>1.099934</td>\n",
              "      <td>0.10000</td>\n",
              "      <td>9.980046</td>\n",
              "      <td>0.100000</td>\n",
              "      <td>13.053249</td>\n",
              "    </tr>\n",
              "  </tbody>\n",
              "</table>\n",
              "<p>5 rows × 396 columns</p>\n",
              "</div>"
            ],
            "text/plain": [
              "         ability       able    action  ...     worth     wrong       year\n",
              "Topic0  0.100013   0.100003  0.100014  ...  0.100000  0.100007   7.518200\n",
              "Topic1  4.787660   0.100006  6.099944  ...  0.100038  7.036618   6.235242\n",
              "Topic2  0.100042  38.099955  0.100041  ...  0.100001  5.150834   0.100002\n",
              "Topic3  0.100000   0.100004  0.100002  ...  0.100002  0.100003   0.100006\n",
              "Topic4  2.099836   0.100003  0.100024  ...  9.980046  0.100000  13.053249\n",
              "\n",
              "[5 rows x 396 columns]"
            ]
          },
          "metadata": {
            "tags": []
          },
          "execution_count": 29
        }
      ]
    },
    {
      "cell_type": "code",
      "metadata": {
        "colab": {
          "base_uri": "https://localhost:8080/",
          "height": 359
        },
        "id": "BB6NVd6agXoB",
        "outputId": "627f6d2d-9078-423e-ef4b-9b2c82885b97"
      },
      "source": [
        "# Show top n keywords for each topic\n",
        "def show_topics(vectorizer=vectorizer, lda_model=lda_model, n_words=20):\n",
        "    keywords = np.array(vectorizer.get_feature_names())\n",
        "    topic_keywords = []\n",
        "    for topic_weights in lda_model.components_:\n",
        "        top_keyword_locs = (-topic_weights).argsort()[:n_words]\n",
        "        topic_keywords.append(keywords.take(top_keyword_locs))\n",
        "    return topic_keywords\n",
        "\n",
        "topic_keywords = show_topics(vectorizer=vectorizer, lda_model=best_lda_model, n_words=15)        \n",
        "\n",
        "# Topic - Keywords Dataframe\n",
        "df_topic_keywords = pd.DataFrame(topic_keywords)\n",
        "df_topic_keywords.columns = ['Word '+str(i) for i in range(df_topic_keywords.shape[1])]\n",
        "df_topic_keywords.index = ['Topic '+str(i) for i in range(df_topic_keywords.shape[0])]\n",
        "df_topic_keywords"
      ],
      "execution_count": 30,
      "outputs": [
        {
          "output_type": "execute_result",
          "data": {
            "text/html": [
              "<div>\n",
              "<style scoped>\n",
              "    .dataframe tbody tr th:only-of-type {\n",
              "        vertical-align: middle;\n",
              "    }\n",
              "\n",
              "    .dataframe tbody tr th {\n",
              "        vertical-align: top;\n",
              "    }\n",
              "\n",
              "    .dataframe thead th {\n",
              "        text-align: right;\n",
              "    }\n",
              "</style>\n",
              "<table border=\"1\" class=\"dataframe\">\n",
              "  <thead>\n",
              "    <tr style=\"text-align: right;\">\n",
              "      <th></th>\n",
              "      <th>Word 0</th>\n",
              "      <th>Word 1</th>\n",
              "      <th>Word 2</th>\n",
              "      <th>Word 3</th>\n",
              "      <th>Word 4</th>\n",
              "      <th>Word 5</th>\n",
              "      <th>Word 6</th>\n",
              "      <th>Word 7</th>\n",
              "      <th>Word 8</th>\n",
              "      <th>Word 9</th>\n",
              "      <th>Word 10</th>\n",
              "      <th>Word 11</th>\n",
              "      <th>Word 12</th>\n",
              "      <th>Word 13</th>\n",
              "      <th>Word 14</th>\n",
              "    </tr>\n",
              "  </thead>\n",
              "  <tbody>\n",
              "    <tr>\n",
              "      <th>Topic 0</th>\n",
              "      <td>need</td>\n",
              "      <td>employee</td>\n",
              "      <td>care</td>\n",
              "      <td>process</td>\n",
              "      <td>really</td>\n",
              "      <td>make</td>\n",
              "      <td>people</td>\n",
              "      <td>listen</td>\n",
              "      <td>interview</td>\n",
              "      <td>think</td>\n",
              "      <td>transparency</td>\n",
              "      <td>role</td>\n",
              "      <td>long</td>\n",
              "      <td>level</td>\n",
              "      <td>skill</td>\n",
              "    </tr>\n",
              "    <tr>\n",
              "      <th>Topic 1</th>\n",
              "      <td>worker</td>\n",
              "      <td>leadership</td>\n",
              "      <td>work</td>\n",
              "      <td>need</td>\n",
              "      <td>customer</td>\n",
              "      <td>improve</td>\n",
              "      <td>team</td>\n",
              "      <td>quality</td>\n",
              "      <td>talk</td>\n",
              "      <td>know</td>\n",
              "      <td>friendly</td>\n",
              "      <td>focus</td>\n",
              "      <td>management</td>\n",
              "      <td>employee</td>\n",
              "      <td>supportive</td>\n",
              "    </tr>\n",
              "    <tr>\n",
              "      <th>Topic 2</th>\n",
              "      <td>people</td>\n",
              "      <td>work</td>\n",
              "      <td>new</td>\n",
              "      <td>thing</td>\n",
              "      <td>challenge</td>\n",
              "      <td>good</td>\n",
              "      <td>client</td>\n",
              "      <td>learn</td>\n",
              "      <td>growth</td>\n",
              "      <td>able</td>\n",
              "      <td>environment</td>\n",
              "      <td>company</td>\n",
              "      <td>career</td>\n",
              "      <td>positive</td>\n",
              "      <td>provide</td>\n",
              "    </tr>\n",
              "    <tr>\n",
              "      <th>Topic 3</th>\n",
              "      <td>benefit</td>\n",
              "      <td>good</td>\n",
              "      <td>insurance</td>\n",
              "      <td>health</td>\n",
              "      <td>fair</td>\n",
              "      <td>compensation</td>\n",
              "      <td>salary</td>\n",
              "      <td>business</td>\n",
              "      <td>package</td>\n",
              "      <td>opportunity</td>\n",
              "      <td>great</td>\n",
              "      <td>plan</td>\n",
              "      <td>employee</td>\n",
              "      <td>fun</td>\n",
              "      <td>interviewer</td>\n",
              "    </tr>\n",
              "    <tr>\n",
              "      <th>Topic 4</th>\n",
              "      <td>work</td>\n",
              "      <td>pay</td>\n",
              "      <td>time</td>\n",
              "      <td>make</td>\n",
              "      <td>hard</td>\n",
              "      <td>feel</td>\n",
              "      <td>hour</td>\n",
              "      <td>offer</td>\n",
              "      <td>low</td>\n",
              "      <td>employee</td>\n",
              "      <td>money</td>\n",
              "      <td>company</td>\n",
              "      <td>day</td>\n",
              "      <td>leave</td>\n",
              "      <td>market</td>\n",
              "    </tr>\n",
              "    <tr>\n",
              "      <th>Topic 5</th>\n",
              "      <td>employee</td>\n",
              "      <td>great</td>\n",
              "      <td>manager</td>\n",
              "      <td>company</td>\n",
              "      <td>leadership</td>\n",
              "      <td>value</td>\n",
              "      <td>treat</td>\n",
              "      <td>respect</td>\n",
              "      <td>change</td>\n",
              "      <td>raise</td>\n",
              "      <td>member</td>\n",
              "      <td>stock</td>\n",
              "      <td>increase</td>\n",
              "      <td>strong</td>\n",
              "      <td>goal</td>\n",
              "    </tr>\n",
              "    <tr>\n",
              "      <th>Topic 6</th>\n",
              "      <td>management</td>\n",
              "      <td>communication</td>\n",
              "      <td>coworker</td>\n",
              "      <td>easy</td>\n",
              "      <td>nice</td>\n",
              "      <td>work</td>\n",
              "      <td>good</td>\n",
              "      <td>interview</td>\n",
              "      <td>people</td>\n",
              "      <td>employee</td>\n",
              "      <td>project</td>\n",
              "      <td>professional</td>\n",
              "      <td>policy</td>\n",
              "      <td>place</td>\n",
              "      <td>fast</td>\n",
              "    </tr>\n",
              "    <tr>\n",
              "      <th>Topic 7</th>\n",
              "      <td>team</td>\n",
              "      <td>work</td>\n",
              "      <td>good</td>\n",
              "      <td>family</td>\n",
              "      <td>support</td>\n",
              "      <td>great</td>\n",
              "      <td>stop</td>\n",
              "      <td>like</td>\n",
              "      <td>culture</td>\n",
              "      <td>new</td>\n",
              "      <td>job</td>\n",
              "      <td>break</td>\n",
              "      <td>try</td>\n",
              "      <td>improve</td>\n",
              "      <td>trust</td>\n",
              "    </tr>\n",
              "    <tr>\n",
              "      <th>Topic 8</th>\n",
              "      <td>job</td>\n",
              "      <td>just</td>\n",
              "      <td>hire</td>\n",
              "      <td>people</td>\n",
              "      <td>work</td>\n",
              "      <td>day</td>\n",
              "      <td>life</td>\n",
              "      <td>happy</td>\n",
              "      <td>ask</td>\n",
              "      <td>make</td>\n",
              "      <td>say</td>\n",
              "      <td>experience</td>\n",
              "      <td>use</td>\n",
              "      <td>balance</td>\n",
              "      <td>interview</td>\n",
              "    </tr>\n",
              "    <tr>\n",
              "      <th>Topic 9</th>\n",
              "      <td>good</td>\n",
              "      <td>company</td>\n",
              "      <td>help</td>\n",
              "      <td>culture</td>\n",
              "      <td>love</td>\n",
              "      <td>environment</td>\n",
              "      <td>people</td>\n",
              "      <td>work</td>\n",
              "      <td>open</td>\n",
              "      <td>diversity</td>\n",
              "      <td>group</td>\n",
              "      <td>different</td>\n",
              "      <td>feel</td>\n",
              "      <td>way</td>\n",
              "      <td>food</td>\n",
              "    </tr>\n",
              "  </tbody>\n",
              "</table>\n",
              "</div>"
            ],
            "text/plain": [
              "             Word 0         Word 1  ...   Word 13      Word 14\n",
              "Topic 0        need       employee  ...     level        skill\n",
              "Topic 1      worker     leadership  ...  employee   supportive\n",
              "Topic 2      people           work  ...  positive      provide\n",
              "Topic 3     benefit           good  ...       fun  interviewer\n",
              "Topic 4        work            pay  ...     leave       market\n",
              "Topic 5    employee          great  ...    strong         goal\n",
              "Topic 6  management  communication  ...     place         fast\n",
              "Topic 7        team           work  ...   improve        trust\n",
              "Topic 8         job           just  ...   balance    interview\n",
              "Topic 9        good        company  ...       way         food\n",
              "\n",
              "[10 rows x 15 columns]"
            ]
          },
          "metadata": {
            "tags": []
          },
          "execution_count": 30
        }
      ]
    },
    {
      "cell_type": "markdown",
      "metadata": {
        "id": "GiyzEEy_gpxs"
      },
      "source": [
        "# Predic Topics on New Reviews"
      ]
    },
    {
      "cell_type": "code",
      "metadata": {
        "colab": {
          "base_uri": "https://localhost:8080/"
        },
        "id": "BLIAulVcgY9l",
        "outputId": "6b48cc9a-d2cb-432d-f2b1-430ddb30bb90"
      },
      "source": [
        "# Define function to predict topic for a given text document.\n",
        "nlp = spacy.load('en', disable=['parser', 'ner'])\n",
        "\n",
        "def predict_topic(text, nlp=nlp):\n",
        "    global sent_to_words\n",
        "    global lemmatization\n",
        "\n",
        "    # Step 1: Clean with simple_preprocess\n",
        "    mytext_2 = list(sent_to_words(text))\n",
        "\n",
        "    # Step 2: Lemmatize\n",
        "    mytext_3 = lemmatization(mytext_2, allowed_postags=['NOUN', 'ADJ', 'VERB', 'ADV'])\n",
        "\n",
        "    # Step 3: Vectorize transform\n",
        "    mytext_4 = vectorizer.transform(mytext_3)\n",
        "\n",
        "    # Step 4: LDA Transform\n",
        "    topic_probability_scores = best_lda_model.transform(mytext_4)\n",
        "    topic = df_topic_keywords.iloc[np.argmax(topic_probability_scores), :].values.tolist()\n",
        "    return topic, topic_probability_scores\n",
        "\n",
        "# Predict the topic\n",
        "mytext = [\"gender equality\"]\n",
        "topic, prob_scores = predict_topic(text = mytext)\n",
        "print(topic)"
      ],
      "execution_count": 31,
      "outputs": [
        {
          "output_type": "stream",
          "text": [
            "['need', 'employee', 'care', 'process', 'really', 'make', 'people', 'listen', 'interview', 'think', 'transparency', 'role', 'long', 'level', 'skill']\n"
          ],
          "name": "stdout"
        }
      ]
    }
  ]
}