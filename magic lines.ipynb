# use them at the beginning

%reload_ext autoreload
%autoreload 2
%matplotlib inline